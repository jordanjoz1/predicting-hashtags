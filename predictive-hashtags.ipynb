{
 "cells": [
  {
   "cell_type": "markdown",
   "metadata": {},
   "source": [
    "# Predicting Hashtag Use in StackOverflow Questions\n",
    "Exploring hashtags for StackOverflow questions. By Jordan Jozwiak, Liora Sim, Xiaoxiao Wu, and Akua Abu"
   ]
  },
  {
   "cell_type": "code",
   "execution_count": 1,
   "metadata": {
    "collapsed": false
   },
   "outputs": [],
   "source": [
    "%matplotlib inline\n",
    "\n",
    "import json\n",
    "import time\n",
    "import pandas as pd\n",
    "import numpy as np\n",
    "import networkx as nx\n",
    "import requests\n",
    "from pattern import web\n",
    "import matplotlib.pyplot as plt\n",
    "import pattern.web as pw\n",
    "import operator\n",
    "import random\n",
    "from collections import Counter\n",
    "from pygments.lexers import guess_lexer, guess_lexer_for_filename\n",
    "from pattern.web import DOM, plaintext\n",
    "import pylab as pyl\n",
    "\n",
    "# set some nicer defaults for matplotlib\n",
    "from matplotlib import rcParams\n",
    "\n",
    "#these colors come from colorbrewer2.org. Each is an RGB triplet\n",
    "dark2_colors = [(0.10588235294117647, 0.6196078431372549, 0.4666666666666667),\n",
    "                (0.8509803921568627, 0.37254901960784315, 0.00784313725490196),\n",
    "                (0.4588235294117647, 0.4392156862745098, 0.7019607843137254),\n",
    "                (0.9058823529411765, 0.1607843137254902, 0.5411764705882353),\n",
    "                (0.4, 0.6509803921568628, 0.11764705882352941),\n",
    "                (0.9019607843137255, 0.6705882352941176, 0.00784313725490196),\n",
    "                (0.6509803921568628, 0.4627450980392157, 0.11372549019607843),\n",
    "                (0.4, 0.4, 0.4)]\n",
    "\n",
    "rcParams['figure.figsize'] = (10, 6)\n",
    "rcParams['figure.dpi'] = 150\n",
    "rcParams['axes.color_cycle'] = dark2_colors\n",
    "rcParams['lines.linewidth'] = 2\n",
    "rcParams['axes.grid'] = False\n",
    "rcParams['axes.facecolor'] = 'white'\n",
    "rcParams['font.size'] = 14\n",
    "rcParams['patch.edgecolor'] = 'none'\n",
    "\n",
    "def remove_border(axes=None, top=False, right=False, left=True, bottom=True):\n",
    "    \"\"\"\n",
    "    Minimize chartjunk by stripping out unnecessary plot borders and axis ticks\n",
    "    \n",
    "    The top/right/left/bottom keywords toggle whether the corresponding plot border is drawn\n",
    "    \"\"\"\n",
    "    ax = axes or plt.gca()\n",
    "    ax.spines['top'].set_visible(top)\n",
    "    ax.spines['right'].set_visible(right)\n",
    "    ax.spines['left'].set_visible(left)\n",
    "    ax.spines['bottom'].set_visible(bottom)\n",
    "    \n",
    "    #turn off all ticks\n",
    "    ax.yaxis.set_ticks_position('none')\n",
    "    ax.xaxis.set_ticks_position('none')\n",
    "    \n",
    "    #now re-enable visibles\n",
    "    if top:\n",
    "        ax.xaxis.tick_top()\n",
    "    if bottom:\n",
    "        ax.xaxis.tick_bottom()\n",
    "    if left:\n",
    "        ax.yaxis.tick_left()\n",
    "    if right:\n",
    "        ax.yaxis.tick_right()"
   ]
  },
  {
   "cell_type": "markdown",
   "metadata": {},
   "source": [
    "Stackoverflow is the flagship Q&A website of the Stackexchange Network. It features questions and answers on a wide range of topics in computer programming. A typical stackoverflow question looks like [this](http://stackoverflow.com/questions/20324749/twitter-api-dotnetopenauth-httpclient-error-could-not-authenticate-you).\n",
    "\n",
    "We downloaded stackoverflow questions, using the stackexchange API (http://api.stackexchange.com). Stackexchange gives access to its data in JSON format ([example](http://api.stackexchange.com/2.1/questions?pagesize=1&order=desc&sort=activity&site=stackoverflow)). We first registed for an api key. After we got the key, we used the key to get an ancess token that would allow us to download data from the website."
   ]
  },
  {
   "cell_type": "code",
   "execution_count": 2,
   "metadata": {
    "collapsed": false
   },
   "outputs": [],
   "source": [
    "key = 'vhd6*M3uoM7s*0feSj5ywQ(('\n",
    "access_token = 'pZr0oYcDtx3Y5iQklSlwyw))'\n",
    "\n",
    "\"\"\"\n",
    "Function\n",
    "--------\n",
    "fget_questions(fromdate, todate, pagesize)\n",
    "\n",
    "Use the stackexchange web API to fetch [pagesize] number of questions asked between fromdate and todate\n",
    "\n",
    "Parameters\n",
    "----------\n",
    "fromdate : Unix Timestamp \n",
    "  From Date\n",
    "todate : Unix Timestamp \n",
    "  To Date\n",
    "pagesize : int\n",
    "  number of questions to fetch\n",
    "  \n",
    "Returns\n",
    "-------\n",
    "Dictionary of Questions\n",
    "\"\"\"\n",
    "\n",
    "def get_questions(fromdate, todate, pagesize):\n",
    "    options = {\n",
    "               'access_token' : access_token, \n",
    "               'key' : key, \n",
    "               'pagesize' : pagesize,\n",
    "               'fromdate': fromdate,\n",
    "               'todate' : todate,\n",
    "               #update filter to include the 'body' field in our question object\n",
    "               'filter' :'!9f8L76x0L'}\n",
    "    url = 'https://api.stackexchange.com/2.1/questions?order=desc&sort=activity&site=stackoverflow'\n",
    "    page = requests.get(url, params=options).text\n",
    "    return json.loads(page)"
   ]
  },
  {
   "cell_type": "code",
   "execution_count": 2,
   "metadata": {
    "collapsed": false
   },
   "outputs": [],
   "source": [
    "\"\"\"Download as much data as we can\"\"\"\n",
    "\n",
    "#we started from Monday Dec 9 and worked our way backwards in time\n",
    "timenow = int(time.time())\n",
    "day = 86400\n",
    "fromdate = timenow - day\n",
    "todate = timenow\n",
    "pagesize = 100\n",
    "\n",
    "questions = [];\n",
    "#there is a quota of 10,000 a day\n",
    "quota_remaining = 10000\n",
    "while quota_remaining > pagesize:\n",
    "    qdict = get_questions(fromdate, todate, pagesize)\n",
    "    questions.extend(qdict['items'])\n",
    "    quota_remaining = qdict['quota_remaining']\n",
    "    todate = fromdate\n",
    "    fromdate = fromdate - day\n",
    "\n",
    "#reorganize data into pandas df \n",
    "qlist = []\n",
    "for i in questions:\n",
    "    qlist.extend(i)\n",
    "qdict = pd.DataFrame(qlist)\n",
    "\n",
    "#extract user info to add to qdict\n",
    "user_id = []\n",
    "reputation = []\n",
    "for i in qdict['owner']:\n",
    "    owner_info = eval(i)\n",
    "    if 'user_id' in eval(i).keys():\n",
    "        user_id.append(owner_info['user_id'])\n",
    "    else:\n",
    "        user_id.append('')\n",
    "    if 'reputation' in eval(i).keys():\n",
    "        reputation.append(owner_info['reputation'])\n",
    "    else:\n",
    "        reputation.append('')\n",
    "\n",
    "qdict['reputation'] = reputation\n",
    "qdict['user_id'] = user_id     \n",
    "\n",
    "#save to csv file\n",
    "qdict.to_csv('questions.csv', index=False,encoding='utf-8')"
   ]
  },
  {
   "cell_type": "markdown",
   "metadata": {},
   "source": [
    "# Exploratory Analysis"
   ]
  },
  {
   "cell_type": "markdown",
   "metadata": {},
   "source": [
    "## Exploring the Data"
   ]
  },
  {
   "cell_type": "markdown",
   "metadata": {},
   "source": [
    "Our data is a random sample of questions post on one of StackExchange's sites over the last five years.  Our goal is to predict the keywords/tags for a question given everything else we know about the question (title, body, code, user, etc.).  The questions are a mix of technical and non-technical questions, so they will not all contain code or be directly related to a specific programming language.  The non-technical questions may require more text analysis while the technical quesitons will also rely on guessing the programming language of any code snippets."
   ]
  },
  {
   "cell_type": "code",
   "execution_count": 2,
   "metadata": {
    "collapsed": false
   },
   "outputs": [
    {
     "data": {
      "text/html": [
       "<div style=\"max-height:1000px;max-width:1500px;overflow:auto;\">\n",
       "<table border=\"1\" class=\"dataframe\">\n",
       "  <thead>\n",
       "    <tr style=\"text-align: right;\">\n",
       "      <th></th>\n",
       "      <th>Answer_count</th>\n",
       "      <th>Body</th>\n",
       "      <th>Creation_date</th>\n",
       "      <th>Is_answered</th>\n",
       "      <th>Link</th>\n",
       "      <th>Question_id</th>\n",
       "      <th>Score</th>\n",
       "      <th>Tags</th>\n",
       "      <th>Title</th>\n",
       "      <th>View_count</th>\n",
       "      <th>Reputation</th>\n",
       "      <th>User_id</th>\n",
       "    </tr>\n",
       "  </thead>\n",
       "  <tbody>\n",
       "    <tr>\n",
       "      <th>0</th>\n",
       "      <td> 0</td>\n",
       "      <td> &lt;p&gt;I took a java class and a VB class this sem...</td>\n",
       "      <td> 1386649804</td>\n",
       "      <td> False</td>\n",
       "      <td> http://stackoverflow.com/questions/20486137/ho...</td>\n",
       "      <td> 20486137</td>\n",
       "      <td> 0</td>\n",
       "      <td>                java</td>\n",
       "      <td>    How do I learn to WRITE programs from scratch?</td>\n",
       "      <td>  1</td>\n",
       "      <td>    1</td>\n",
       "      <td> 3085406</td>\n",
       "    </tr>\n",
       "    <tr>\n",
       "      <th>1</th>\n",
       "      <td> 1</td>\n",
       "      <td> &lt;p&gt;Hello all I have a program that is dealing ...</td>\n",
       "      <td> 1386649706</td>\n",
       "      <td> False</td>\n",
       "      <td> http://stackoverflow.com/questions/20486115/ho...</td>\n",
       "      <td> 20486115</td>\n",
       "      <td> 0</td>\n",
       "      <td>       python string</td>\n",
       "      <td> How do I delete the first part of a string in ...</td>\n",
       "      <td>  8</td>\n",
       "      <td>   43</td>\n",
       "      <td> 2649920</td>\n",
       "    </tr>\n",
       "    <tr>\n",
       "      <th>2</th>\n",
       "      <td> 5</td>\n",
       "      <td> &lt;p&gt;I tried using final keyword to array but st...</td>\n",
       "      <td> 1386649500</td>\n",
       "      <td>  True</td>\n",
       "      <td> http://stackoverflow.com/questions/20486074/wh...</td>\n",
       "      <td> 20486074</td>\n",
       "      <td> 0</td>\n",
       "      <td>                java</td>\n",
       "      <td>     Why final is not applicable to array in Java?</td>\n",
       "      <td> 26</td>\n",
       "      <td>    1</td>\n",
       "      <td> 2099274</td>\n",
       "    </tr>\n",
       "    <tr>\n",
       "      <th>3</th>\n",
       "      <td> 0</td>\n",
       "      <td> &lt;p&gt;I have a number of PHP scripts that I am tr...</td>\n",
       "      <td> 1386620377</td>\n",
       "      <td> False</td>\n",
       "      <td> http://stackoverflow.com/questions/20479918/de...</td>\n",
       "      <td> 20479918</td>\n",
       "      <td> 1</td>\n",
       "      <td>    http asp-classic</td>\n",
       "      <td> Determining the length of a UTF-8 response in ...</td>\n",
       "      <td>  9</td>\n",
       "      <td> 3171</td>\n",
       "      <td>  619852</td>\n",
       "    </tr>\n",
       "    <tr>\n",
       "      <th>4</th>\n",
       "      <td> 0</td>\n",
       "      <td> &lt;p&gt;I have a application that fills in fields o...</td>\n",
       "      <td> 1386649779</td>\n",
       "      <td> False</td>\n",
       "      <td> http://stackoverflow.com/questions/20486133/dr...</td>\n",
       "      <td> 20486133</td>\n",
       "      <td> 0</td>\n",
       "      <td> c# image bitmap gdi</td>\n",
       "      <td>              Draw large off screen form to bitmap</td>\n",
       "      <td>  2</td>\n",
       "      <td>   26</td>\n",
       "      <td> 1137759</td>\n",
       "    </tr>\n",
       "  </tbody>\n",
       "</table>\n",
       "</div>"
      ],
      "text/plain": [
       "  Answer_count                                               Body  \\\n",
       "0            0  <p>I took a java class and a VB class this sem...   \n",
       "1            1  <p>Hello all I have a program that is dealing ...   \n",
       "2            5  <p>I tried using final keyword to array but st...   \n",
       "3            0  <p>I have a number of PHP scripts that I am tr...   \n",
       "4            0  <p>I have a application that fills in fields o...   \n",
       "\n",
       "   Creation_date Is_answered  \\\n",
       "0     1386649804       False   \n",
       "1     1386649706       False   \n",
       "2     1386649500        True   \n",
       "3     1386620377       False   \n",
       "4     1386649779       False   \n",
       "\n",
       "                                                Link  Question_id  Score  \\\n",
       "0  http://stackoverflow.com/questions/20486137/ho...     20486137      0   \n",
       "1  http://stackoverflow.com/questions/20486115/ho...     20486115      0   \n",
       "2  http://stackoverflow.com/questions/20486074/wh...     20486074      0   \n",
       "3  http://stackoverflow.com/questions/20479918/de...     20479918      1   \n",
       "4  http://stackoverflow.com/questions/20486133/dr...     20486133      0   \n",
       "\n",
       "                  Tags                                              Title  \\\n",
       "0                 java     How do I learn to WRITE programs from scratch?   \n",
       "1        python string  How do I delete the first part of a string in ...   \n",
       "2                 java      Why final is not applicable to array in Java?   \n",
       "3     http asp-classic  Determining the length of a UTF-8 response in ...   \n",
       "4  c# image bitmap gdi               Draw large off screen form to bitmap   \n",
       "\n",
       "   View_count  Reputation  User_id  \n",
       "0           1           1  3085406  \n",
       "1           8          43  2649920  \n",
       "2          26           1  2099274  \n",
       "3           9        3171   619852  \n",
       "4           2          26  1137759  "
      ]
     },
     "execution_count": 2,
     "metadata": {},
     "output_type": "execute_result"
    }
   ],
   "source": [
    "# load data\n",
    "questions = pd.read_csv('questions.csv')\n",
    "#filter out corrupted rows\n",
    "questions = questions[questions['Creation_date'] > 100]\n",
    "questions = questions[~np.isnan(questions['Question_id'])]\n",
    "questions = questions[~np.isnan(questions['User_id'])]\n",
    "questions.reset_index(drop=True)\n",
    "questions.head()"
   ]
  },
  {
   "cell_type": "markdown",
   "metadata": {},
   "source": [
    "We first look at the general statistics of this dataset and an example of one of the questions."
   ]
  },
  {
   "cell_type": "code",
   "execution_count": 3,
   "metadata": {
    "collapsed": false
   },
   "outputs": [
    {
     "name": "stdout",
     "output_type": "stream",
     "text": [
      "From: Thu Jul 31 17:42:52 2008\n",
      "To:  Mon Dec 09 23:30:04 2013\n",
      "Number of questions: 189640\n",
      "Number of unique users: 111038\n",
      " \n",
      "Question_id                                         2.048614e+07\n",
      "Title             How do I learn to WRITE programs from scratch?\n",
      "Body           <p>I took a java class and a VB class this sem...\n",
      "Tags                                                        java\n",
      "Name: 0, dtype: object\n"
     ]
    }
   ],
   "source": [
    "x = np.array(questions['Creation_date'])\n",
    "x = x[~np.isnan(x)]\n",
    "print \"From:\", time.ctime(int(x.min()))\n",
    "print \"To: \", time.ctime(int(x.max()))\n",
    "# number of questions\n",
    "n_questions = len(questions)\n",
    "print \"Number of questions: %i\" % n_questions\n",
    "print \"Number of unique users:\", len(questions['User_id'].unique())\n",
    "print \" \"\n",
    "# print the first row\n",
    "print questions[['Question_id', 'Title', 'Body', 'Tags']].irow(0)"
   ]
  },
  {
   "cell_type": "markdown",
   "metadata": {},
   "source": [
    "Our full dataset deals with roughly 190,000 questions - a sizable number, but still just a fraction of more than 10 million total questions between the stack exchange sites.  The title is formatted as a plain string, and does not need any additional manipulation.  The body of the question is in HTML format, which makes it easy to extract code snippets, but also requries us to clean the text up in order to look at the words.  The tags are separated by spaces and seem to have hyphens between them for multi-word names."
   ]
  },
  {
   "cell_type": "markdown",
   "metadata": {},
   "source": [
    "To get a better picture of the langauge use in the tags, title, and body, we look at the word frequency per each question and across all the questions.  To help with this process we create a function to count the number of words in a series."
   ]
  },
  {
   "cell_type": "code",
   "execution_count": 4,
   "metadata": {
    "collapsed": false
   },
   "outputs": [],
   "source": [
    "\"\"\"\n",
    "Function\n",
    "--------\n",
    "count_words\n",
    "\n",
    "Parameters\n",
    "----------\n",
    "series : Series\n",
    "  series from dataframe column\n",
    "  \n",
    "Returns\n",
    "--------\n",
    "A dictionary\n",
    "  with key/value pairs of word => frequency\n",
    "\"\"\"\n",
    "def count_words(series):\n",
    "    n_tags = {}\n",
    "    for tags in series:\n",
    "        tags = tags.split()\n",
    "        for tag in tags:\n",
    "            tag = tag.lower()\n",
    "            if tag in n_tags:\n",
    "                n_tags[tag] += 1\n",
    "            else:\n",
    "                n_tags[tag] = 1\n",
    "    return n_tags"
   ]
  },
  {
   "cell_type": "code",
   "execution_count": 5,
   "metadata": {
    "collapsed": false
   },
   "outputs": [],
   "source": [
    "def bar_style(x, y, xlabels):\n",
    "    plt.figure(figsize=(15, 4))\n",
    "    plt.bar(range(len(y)), y, align='center')\n",
    "    plt.xticks(range(len(xlabels)), xlabels, rotation='vertical', fontsize=7)\n",
    "    limits = plt.xlim(0, len(x))\n",
    "    remove_border()"
   ]
  },
  {
   "cell_type": "markdown",
   "metadata": {},
   "source": [
    "### Analysis of Tags"
   ]
  },
  {
   "cell_type": "markdown",
   "metadata": {},
   "source": [
    "Let's start by answering some basic questions about the tags.  What are the most common words?  What is the distribution of their frequencies?  How many tags can be used per question?  How many tags typically are used per question?  And when we get to exploring the title of the questions, if a previously tagged word is used in the title of a question, what is the probability that it will show up as a tag."
   ]
  },
  {
   "cell_type": "markdown",
   "metadata": {},
   "source": [
    "We start by exploring the frequency distribution of all the observed tags using our previously defined *count_words* function."
   ]
  },
  {
   "cell_type": "code",
   "execution_count": 6,
   "metadata": {
    "collapsed": false
   },
   "outputs": [
    {
     "name": "stdout",
     "output_type": "stream",
     "text": [
      "             freq\n",
      "tag              \n",
      "java        17338\n",
      "c#          15810\n",
      "javascript  13472\n",
      "android     13097\n",
      "php         12321\n"
     ]
    }
   ],
   "source": [
    "# count tag occurrences\n",
    "n_tags = count_words(questions.Tags)\n",
    "\n",
    "# create new dataframe for tags and sort by their frequencies\n",
    "tags = pd.DataFrame([{'tag': x[0], 'freq': x[1]} for x in n_tags.iteritems()])\n",
    "tags = tags.set_index('tag')\n",
    "tags = tags.sort('freq', ascending=False)\n",
    "print tags.head()"
   ]
  },
  {
   "cell_type": "markdown",
   "metadata": {},
   "source": [
    "It is immediately evident that the most common tags are programming languages and environments (and therefore probably related to technical questions).  Based on the quick decrease in frequency, it also looks as if there will be a long tail for tags with a low frequency. We proceed to look at the most popular tags and the portion of total tags covered by the 100 most popular tags.  If the top tags make up a large portion of the data then we may use these to decrease the complexity of our algorithms."
   ]
  },
  {
   "cell_type": "code",
   "execution_count": 7,
   "metadata": {
    "collapsed": false
   },
   "outputs": [
    {
     "name": "stdout",
     "output_type": "stream",
     "text": [
      "Number of unique tags: 21058\n",
      "First 100 tags make up 42.98 percent of total tags\n",
      "Most popular tags:\n",
      "                freq\n",
      "tag                 \n",
      "java           17338\n",
      "c#             15810\n",
      "javascript     13472\n",
      "android        13097\n",
      "php            12321\n",
      "jquery          9127\n",
      "python          8009\n",
      "c++             6686\n",
      ".net            6599\n",
      "iphone          6105\n",
      "html            5777\n",
      "asp.net         5261\n",
      "css             4943\n",
      "ios             4718\n",
      "mysql           4375\n",
      "objective-c     4234\n",
      "sql             4116\n",
      "ruby-on-rails   3915\n",
      "c               3465\n",
      "ruby            2973\n"
     ]
    }
   ],
   "source": [
    "# most common words in series\n",
    "print \"Number of unique tags: %d\" % len(n_tags)\n",
    "print \"First 100 tags make up %.2f percent of total tags\" % ((tags.sort('freq', ascending=False).freq.values[:100].sum()  / float(tags.sort('freq', ascending=False).freq.values.sum())) * 100)\n",
    "\n",
    "print \"Most popular tags:\"\n",
    "print tags[:20]"
   ]
  },
  {
   "cell_type": "code",
   "execution_count": 14,
   "metadata": {
    "collapsed": false
   },
   "outputs": [
    {
     "data": {
      "text/plain": [
       "<matplotlib.text.Text at 0x107c02750>"
      ]
     },
     "execution_count": 14,
     "metadata": {},
     "output_type": "execute_result"
    },
    {
     "data": {
      "image/png": "[encoded data removed]",
      "text/plain": [
       "<matplotlib.figure.Figure at 0x137842c10>"
      ]
     },
     "metadata": {},
     "output_type": "display_data"
    }
   ],
   "source": [
    "# bar chart of 100 most common tags\n",
    "x = range(100)\n",
    "xlabels = tags.index.values[:100]\n",
    "y = tags.freq.values[:100]\n",
    "bar_style(x, y, xlabels)\n",
    "plt.xlabel(\"Tag\")\n",
    "plt.ylabel(\"N\")\n",
    "plt.title(\"Tag frequency\")"
   ]
  },
  {
   "cell_type": "markdown",
   "metadata": {},
   "source": [
    "The most popular tags make up less than 1% of the unique tag words, but these tags account for about 40% of the tag occurrences.  If we can correctly predict these tags, then most of our battle will already be won."
   ]
  },
  {
   "cell_type": "markdown",
   "metadata": {},
   "source": [
    "We also need to look at the number of tags per question.  This will be especially important when predicting how many tags to give a particular question.  We certainly could give the five most applicable tags (assuming five exist), but perhaps some questions inherently merit fewer tags.  Or perhaps tags are determined solely based on tag relevance."
   ]
  },
  {
   "cell_type": "code",
   "execution_count": 8,
   "metadata": {
    "collapsed": false
   },
   "outputs": [
    {
     "name": "stdout",
     "output_type": "stream",
     "text": [
      "Mean number of tags per question: 3.00\n"
     ]
    }
   ],
   "source": [
    "# count the number of tags per question\n",
    "questions['n_Tags'] = [len(x.split()) for x in questions.Tags]\n",
    "\n",
    "# number of tags per question\n",
    "print \"Mean number of tags per question: %.2f\" % np.array(questions.n_Tags).mean()"
   ]
  },
  {
   "cell_type": "code",
   "execution_count": 9,
   "metadata": {
    "collapsed": false
   },
   "outputs": [
    {
     "data": {
      "text/plain": [
       "<matplotlib.text.Text at 0x23a3bdd8>"
      ]
     },
     "execution_count": 9,
     "metadata": {},
     "output_type": "execute_result"
    },
    {
     "data": {
      "image/png": "[encoded data removed]",
      "text/plain": [
       "<matplotlib.figure.Figure at 0x28746d30>"
      ]
     },
     "metadata": {},
     "output_type": "display_data"
    }
   ],
   "source": [
    "grouped = questions.groupby('n_Tags')\n",
    "plt.bar(range(1, 6), grouped.Question_id.count(), align='center')\n",
    "plt.xticks(range(1, 6))\n",
    "remove_border()\n",
    "plt.xlabel('Number of tags')\n",
    "plt.ylabel('N')\n",
    "plt.title('Frequency of tags per question')"
   ]
  },
  {
   "cell_type": "markdown",
   "metadata": {},
   "source": [
    "This frequency distribution for the number of tags appears normal with a mean of 3.  We immediately researched this and found that stack exchange sites require at least one tag and have a maximum of five.  We will need to keep in mind that in addition to predicting the correct tags for a question, we should also make sure that we are not predicting too few or too many tags."
   ]
  },
  {
   "cell_type": "code",
   "execution_count": 10,
   "metadata": {
    "collapsed": false
   },
   "outputs": [
    {
     "name": "stdout",
     "output_type": "stream",
     "text": [
      "Percent of possible tagged words that are only used once: 29.72\n",
      "Percent of single-use tagged words in all tags: 1.11\n",
      "Median number of times a tag is used: 3\n",
      "Mean number of times a tag is used: 27.02\n",
      "Standard deviation of number of times a tag is used: 283.33\n"
     ]
    }
   ],
   "source": [
    "# look at the distribution of tag frequencies\n",
    "counts = tags.freq.values\n",
    "print 'Percent of possible tagged words that are only used once: %.2f' % (len(counts[counts == 1]) / float(len(counts)) * 100)\n",
    "print 'Percent of single-use tagged words in all tags: %.2f' % (counts[counts == 1].sum() / float(counts[counts > 1].sum()) * 100)\n",
    "print 'Median number of times a tag is used: %d' % np.median(counts)\n",
    "print 'Mean number of times a tag is used: %.2f' % counts.mean()\n",
    "print 'Standard deviation of number of times a tag is used: %.2f' % counts.std()"
   ]
  },
  {
   "cell_type": "code",
   "execution_count": 11,
   "metadata": {
    "collapsed": false
   },
   "outputs": [
    {
     "data": {
      "text/plain": [
       "<matplotlib.text.Text at 0x11c50390>"
      ]
     },
     "execution_count": 11,
     "metadata": {},
     "output_type": "execute_result"
    },
    {
     "data": {
      "image/png": "[encoded data removed]",
      "text/plain": [
       "<matplotlib.figure.Figure at 0x23a3ada0>"
      ]
     },
     "metadata": {},
     "output_type": "display_data"
    }
   ],
   "source": [
    "# histogram of tag frequencies\n",
    "plt.hist(counts, bins=np.logspace(np.log10(min(counts)), np.log10(max(counts)), 20), log=True)\n",
    "plt.gca().set_xscale(\"log\")\n",
    "remove_border()\n",
    "plt.xlabel('Frequency of tag')\n",
    "plt.ylabel('N')\n",
    "plt.title('Number of Tags with Specified Frequency')"
   ]
  },
  {
   "cell_type": "markdown",
   "metadata": {},
   "source": [
    "The linearity of the log-log plot tells us that this follows a powerlaw distribution. This analysis reveals some extremely important points.\n",
    "-About one-third of tags are used only once, should we should be careful not to overfit our model due to this scarcity\n",
    "-The median number of times a tag is used is 2.  Again, this emphasizes that we should not overfit.\n",
    "-Single-use tags make up only 1% of the data, indicating that rarely used tags are much less important than popular tags"
   ]
  },
  {
   "cell_type": "markdown",
   "metadata": {},
   "source": [
    "### Title exploration"
   ]
  },
  {
   "cell_type": "markdown",
   "metadata": {},
   "source": [
    "Any good title should quickly reveal the subject matter of the question.  Users will also be concerned about the quality and specificity of their title since they want their question to be seen, understood, and answered quickly. For this reason, we suspect that the words in the title will be most more essential to predicting tags than the words in the body."
   ]
  },
  {
   "cell_type": "markdown",
   "metadata": {},
   "source": [
    "We begin by looking at the frequency of word occurrences, just like we did with the tags."
   ]
  },
  {
   "cell_type": "code",
   "execution_count": 12,
   "metadata": {
    "collapsed": false
   },
   "outputs": [
    {
     "name": "stdout",
     "output_type": "stream",
     "text": [
      "Most popular words in titles\n",
      "        freq\n",
      "word        \n",
      "to     61995\n",
      "in     53496\n",
      "a      43769\n",
      "how    39867\n",
      "the    26711\n",
      "with   19174\n",
      "of     19038\n",
      "and    18101\n",
      "for    16849\n",
      "is     16411\n",
      "on     14413\n",
      "i      14175\n",
      "from   13195\n",
      "using  12274\n",
      "not    10836\n",
      "-       9867\n",
      "an      9784\n",
      "do      8770\n",
      "can     8258\n",
      "file    6946\n"
     ]
    }
   ],
   "source": [
    "# construct a dataframe of the most common words in the title\n",
    "n_titles = pd.DataFrame([{'word': x[0], 'freq': x[1]} for x in count_words(questions.Title).iteritems()])\n",
    "n_titles = n_titles.set_index('word')\n",
    "n_titles = n_titles.sort('freq', ascending=False)\n",
    "print \"Most popular words in titles\"\n",
    "print n_titles[:20]"
   ]
  },
  {
   "cell_type": "code",
   "execution_count": 13,
   "metadata": {
    "collapsed": false
   },
   "outputs": [
    {
     "data": {
      "text/plain": [
       "<matplotlib.text.Text at 0x294cecc0>"
      ]
     },
     "execution_count": 13,
     "metadata": {},
     "output_type": "execute_result"
    },
    {
     "data": {
      "image/png": "[encoded data removed]",
      "text/plain": [
       "<matplotlib.figure.Figure at 0x5918b70>"
      ]
     },
     "metadata": {},
     "output_type": "display_data"
    }
   ],
   "source": [
    "# bar chart of most common words in title\n",
    "x = range(100)\n",
    "xlabels = n_titles.index.values[:100]\n",
    "y = n_titles.freq.values[:100]\n",
    "bar_style(x, y, xlabels)\n",
    "plt.xlabel(\"Word\")\n",
    "plt.ylabel(\"N\")\n",
    "plt.title(\"Frequency of words in questions\")"
   ]
  },
  {
   "cell_type": "markdown",
   "metadata": {},
   "source": [
    "The above words make it clear that the most common words in the title are common English words, especially articles and prepositions.  This is completely expected and a the phenomenon would also occur in the content of the question.  *Do we want to filter by tagged words to see what the frequency of the most commonly tagged words are in the questions?*"
   ]
  },
  {
   "cell_type": "markdown",
   "metadata": {},
   "source": [
    "We now make some preliminary estimates about how the text of the title affects the tagged words.  To do this we look at the occurrence of tagged words in the title.  We also use our complete set of previously tagged words to flag words in a title that might be tag-worthy and then look at the percent of those words that are actually used as tags.  In a way, this is the simplest (and therefore very bad) model for tagging."
   ]
  },
  {
   "cell_type": "code",
   "execution_count": 14,
   "metadata": {
    "collapsed": false
   },
   "outputs": [
    {
     "name": "stdout",
     "output_type": "stream",
     "text": [
      "                                               Title                 Tags  \\\n",
      "0     How do I learn to WRITE programs from scratch?                 java   \n",
      "1  How do I delete the first part of a string in ...        python string   \n",
      "2      Why final is not applicable to array in Java?                 java   \n",
      "3  Determining the length of a UTF-8 response in ...     http asp-classic   \n",
      "4               Draw large off screen form to bitmap  c# image bitmap gdi   \n",
      "\n",
      "   n_Tags  tags_in_title  percent_tags_in_title  \n",
      "0       1              0                   0.00  \n",
      "1       2              2                   1.00  \n",
      "2       1              0                   0.00  \n",
      "3       2              0                   0.00  \n",
      "4       4              1                   0.25  \n"
     ]
    }
   ],
   "source": [
    "# number and percent of tagged words in title\n",
    "tags_in_title = []\n",
    "for i in range(len(questions)):\n",
    "    question = questions.irow(i)\n",
    "    q_tags = question['Tags'].split()\n",
    "    in_title = 0\n",
    "    for tag in q_tags:\n",
    "        if tag in question['Title']:\n",
    "            in_title += 1\n",
    "    tags_in_title.append(in_title)\n",
    "questions['tags_in_title'] = tags_in_title \n",
    "questions['percent_tags_in_title'] = questions.tags_in_title / np.array(questions.n_Tags).astype(float)\n",
    "print questions[['Title', 'Tags', 'n_Tags', 'tags_in_title', 'percent_tags_in_title']].head()"
   ]
  },
  {
   "cell_type": "code",
   "execution_count": 16,
   "metadata": {
    "collapsed": false
   },
   "outputs": [
    {
     "name": "stdout",
     "output_type": "stream",
     "text": [
      "Mean percent of tags that show up in the title: 16.22\n",
      "Percent of Questions with NO Tags in Title: 64.82\n",
      "Percent of Questions with ALL Tags in Title: 3.89\n"
     ]
    }
   ],
   "source": [
    "percent_tags_in_title = questions.percent_tags_in_title.values\n",
    "print 'Mean percent of tags that show up in the title: %.2f' % (percent_tags_in_title.mean() * 100)\n",
    "print 'Percent of Questions with NO Tags in Title: %.2f' % (len(percent_tags_in_title[percent_tags_in_title == 0]) / float(len(percent_tags_in_title)) * 100)\n",
    "print 'Percent of Questions with ALL Tags in Title: %.2f' % (len(percent_tags_in_title[percent_tags_in_title == 1]) / float(len(percent_tags_in_title)) * 100)"
   ]
  },
  {
   "cell_type": "code",
   "execution_count": 17,
   "metadata": {
    "collapsed": false
   },
   "outputs": [
    {
     "data": {
      "text/plain": [
       "<matplotlib.text.Text at 0x161410b8>"
      ]
     },
     "execution_count": 17,
     "metadata": {},
     "output_type": "execute_result"
    },
    {
     "data": {
      "image/png": "[encoded data removed]",
      "text/plain": [
       "<matplotlib.figure.Figure at 0x15ac6e80>"
      ]
     },
     "metadata": {},
     "output_type": "display_data"
    }
   ],
   "source": [
    "# histogram of percent frequencies\n",
    "plt.hist(percent_tags_in_title, log=True)\n",
    "remove_border()\n",
    "plt.title('% Tagged Words in the Question Title')\n",
    "plt.xlabel('Percent of Tagged Words in Title')\n",
    "plt.ylabel('N')"
   ]
  },
  {
   "cell_type": "markdown",
   "metadata": {},
   "source": [
    "The fact that 65% of questions don't have any of their tags in the title is a huge red flag.  This means that we will definitely need to look at related words for predicting tags or look at other sources for estimating tags (the user's habits, the code in the question, the text in the question).  On the other hand, the mean number of tags in the question title is 16% and 4% of questions have all the tags in their question title.  Temporarily ignoring the possibility of false positives, we could optimistically interpret this as definitely knowing the tags for some  small portion of the data based solely on the question's title."
   ]
  },
  {
   "cell_type": "markdown",
   "metadata": {},
   "source": [
    "If we are really trying to predict the tags that a user would choose for a question, then we don't always want to use all five tags.  Since we don't know how many tags a question will have but we know that it needs to have between 1 and 5 tags, we might need a way to predict the number of tags we should use."
   ]
  },
  {
   "cell_type": "code",
   "execution_count": 180,
   "metadata": {
    "collapsed": false
   },
   "outputs": [
    {
     "data": {
      "text/html": [
       "<div style=\"max-height:1000px;max-width:1500px;overflow:auto;\">\n",
       "<table border=\"1\" class=\"dataframe\">\n",
       "  <thead>\n",
       "    <tr style=\"text-align: right;\">\n",
       "      <th></th>\n",
       "      <th>Score</th>\n",
       "      <th>View_count</th>\n",
       "      <th>Reputation</th>\n",
       "      <th>n_Tags</th>\n",
       "      <th>percent_tags_in_title</th>\n",
       "    </tr>\n",
       "  </thead>\n",
       "  <tbody>\n",
       "    <tr>\n",
       "      <th>Score</th>\n",
       "      <td> 1.000000</td>\n",
       "      <td> 0.702993</td>\n",
       "      <td> 0.121481</td>\n",
       "      <td> 0.007652</td>\n",
       "      <td> 0.000398</td>\n",
       "    </tr>\n",
       "    <tr>\n",
       "      <th>View_count</th>\n",
       "      <td> 0.702993</td>\n",
       "      <td> 1.000000</td>\n",
       "      <td> 0.089150</td>\n",
       "      <td>-0.002491</td>\n",
       "      <td> 0.007115</td>\n",
       "    </tr>\n",
       "    <tr>\n",
       "      <th>Reputation</th>\n",
       "      <td> 0.121481</td>\n",
       "      <td> 0.089150</td>\n",
       "      <td> 1.000000</td>\n",
       "      <td> 0.008313</td>\n",
       "      <td>-0.019158</td>\n",
       "    </tr>\n",
       "    <tr>\n",
       "      <th>n_Tags</th>\n",
       "      <td> 0.007652</td>\n",
       "      <td>-0.002491</td>\n",
       "      <td> 0.008313</td>\n",
       "      <td> 1.000000</td>\n",
       "      <td>-0.057165</td>\n",
       "    </tr>\n",
       "    <tr>\n",
       "      <th>percent_tags_in_title</th>\n",
       "      <td> 0.000398</td>\n",
       "      <td> 0.007115</td>\n",
       "      <td>-0.019158</td>\n",
       "      <td>-0.057165</td>\n",
       "      <td> 1.000000</td>\n",
       "    </tr>\n",
       "  </tbody>\n",
       "</table>\n",
       "</div>"
      ],
      "text/plain": [
       "                          Score  View_count  Reputation    n_Tags  percent_tags_in_title\n",
       "Score                  1.000000    0.702993    0.121481  0.007652               0.000398\n",
       "View_count             0.702993    1.000000    0.089150 -0.002491               0.007115\n",
       "Reputation             0.121481    0.089150    1.000000  0.008313              -0.019158\n",
       "n_Tags                 0.007652   -0.002491    0.008313  1.000000              -0.057165\n",
       "percent_tags_in_title  0.000398    0.007115   -0.019158 -0.057165               1.000000"
      ]
     },
     "execution_count": 180,
     "metadata": {},
     "output_type": "execute_result"
    }
   ],
   "source": [
    "questions['n_Title_words'] = [len(x.split()) for x in questions.Title]\n",
    "questions[['Score', 'View_count', 'Reputation', 'n_Tags', 'percent_tags_in_title']].corr()"
   ]
  },
  {
   "cell_type": "markdown",
   "metadata": {},
   "source": [
    "The correlation between the user's reputation and the number of tags is .01, which is extremely low.  As such, we probably cannot estimate the number of tags based on pre-defined attributes of the user."
   ]
  },
  {
   "cell_type": "markdown",
   "metadata": {},
   "source": [
    "For the questions that have previously tagged words in the title, we will want to know how accurately we can predict the tags.  To do this we first create a list of predicted tags based on words that have already been tagged before (filtering by the top 100 tags to focus on significant words and improve the runtime).  Then we look at the number of those tags that actually showed up as tags for that question.  From there we can determine our percent accuracy."
   ]
  },
  {
   "cell_type": "code",
   "execution_count": 181,
   "metadata": {
    "collapsed": false
   },
   "outputs": [
    {
     "name": "stdout",
     "output_type": "stream",
     "text": [
      "Of words in question that match tag set, percent that are also used as a tag: 50.50\n"
     ]
    }
   ],
   "source": [
    "#**********RUNTIME: VERY SLOW*************************\n",
    "\n",
    "# probability that tagged word is used given that it exists in our tag set\n",
    "words = tags.index.values[:100]\n",
    "\n",
    "# list of percent correct for each question\n",
    "percents = []\n",
    "\n",
    "# iterate through all the questions\n",
    "for i in range(len(questions)):\n",
    "    \n",
    "    # get the question, tags, and title words\n",
    "    question = questions.irow(i)\n",
    "    q_tags = question['Tags'].split()\n",
    "    title_words = question['Title'].split()\n",
    "    \n",
    "    # tagged words in title that appear in tag set\n",
    "    pred_tags = np.intersect1d(title_words, words)\n",
    "    \n",
    "    # matched tags that also appear in question tags\n",
    "    cor_tags = np.intersect1d(pred_tags, q_tags)\n",
    "    \n",
    "    # only include questions that had words were tagged before\n",
    "    if len(pred_tags) > 0:\n",
    "        percents.append(len(cor_tags) / float(len(pred_tags)))\n",
    "\n",
    "print 'Of words in question that match tag set, percent that are also used as a tag: %.2f' % (np.array(percents).mean() * 100)"
   ]
  },
  {
   "cell_type": "markdown",
   "metadata": {},
   "source": [
    "We intuitively know that not all words will have equally likely probabilities of predicting a tag.  Perhaps when 'SQL' is used in the title of a question, there is a 90% chance that it is a tag for that question.  On the other hand, since 'function' is a very common word that is occassionally used as a tag, it might only be a trigger for the question's tag 30% of the time.  Below we look at the tags that have the highest percentage of showing up as a tag when used in the title.  We do this by looking at the number of times they are used in the title, tag, and in both places."
   ]
  },
  {
   "cell_type": "code",
   "execution_count": 18,
   "metadata": {
    "collapsed": false
   },
   "outputs": [
    {
     "name": "stdout",
     "output_type": "stream",
     "text": [
      "             freq  in_tag  in_title  in_both\n",
      "tag                                         \n",
      "java        17338   17338      5228     4845\n",
      "c#          15810   15810      3306     3079\n",
      "javascript  13472   13472      3729     3404\n",
      "android     13097   13097      5961     5794\n",
      "php         12321   12321      4542     4377\n"
     ]
    }
   ],
   "source": [
    "#**********RUNTIME: VERY SLOW*************************\n",
    "\n",
    "# create now columns for in_tag, in_title, in_both\n",
    "tags['in_tag'] = np.zeros(len(tags))\n",
    "tags['in_title'] = np.zeros(len(tags))\n",
    "tags['in_both'] = np.zeros(len(tags))\n",
    "\n",
    "# common tags from the complete tag set\n",
    "words = tags.index.values[:100]\n",
    "\n",
    "# iterate through all the questions\n",
    "for i in range(len(questions)):\n",
    "    \n",
    "    # get the question, tags, and title words\n",
    "    question = questions.irow(i)\n",
    "    q_tags = question['Tags'].split()\n",
    "    title_words = list(set([x.lower() for x in question['Title'].split()]))\n",
    "\n",
    "    # update stats for each tag in question\n",
    "    for q_tag in q_tags:\n",
    "        tags['in_tag'][q_tag] += 1\n",
    "        \n",
    "    # update stats for each tag in title\n",
    "    pred_tags = np.intersect1d(title_words, words)\n",
    "    for pred_tag in pred_tags:\n",
    "        tags['in_title'][pred_tag] += 1\n",
    "    \n",
    "    # matched tags that also appear in question tags\n",
    "    cor_tags = np.intersect1d(pred_tags, q_tags)\n",
    "    for cor_tag in cor_tags:\n",
    "        tags['in_both'][cor_tag] += 1\n",
    "        \n",
    "print tags.head()"
   ]
  },
  {
   "cell_type": "markdown",
   "metadata": {},
   "source": [
    "With the sets of in_title and in_both, we can calculate a percentage of how often a word is used as a tag given that it is used in the title.  We look at the results in order of their usage in both the title and the tag to get a picture of the words where this effect is most important."
   ]
  },
  {
   "cell_type": "code",
   "execution_count": 19,
   "metadata": {
    "collapsed": false
   },
   "outputs": [
    {
     "name": "stdout",
     "output_type": "stream",
     "text": [
      "             freq  in_tag  in_title  in_both      prob\n",
      "tag                                                   \n",
      "java        17338   17338      5228     4845  0.926741\n",
      "c#          15810   15810      3306     3079  0.931337\n",
      "javascript  13472   13472      3729     3404  0.912845\n",
      "android     13097   13097      5961     5794  0.971985\n",
      "php         12321   12321      4542     4377  0.963672\n"
     ]
    }
   ],
   "source": [
    "# calculate probability of being a tag given word in title\n",
    "tags['prob'] = tags.in_both / tags.in_title.astype(float)\n",
    "print tags.head()"
   ]
  },
  {
   "cell_type": "code",
   "execution_count": 20,
   "metadata": {
    "collapsed": false
   },
   "outputs": [
    {
     "data": {
      "text/html": [
       "<div style=\"max-height:1000px;max-width:1500px;overflow:auto;\">\n",
       "<table border=\"1\" class=\"dataframe\">\n",
       "  <thead>\n",
       "    <tr style=\"text-align: right;\">\n",
       "      <th></th>\n",
       "      <th>freq</th>\n",
       "      <th>in_tag</th>\n",
       "      <th>in_title</th>\n",
       "      <th>in_both</th>\n",
       "      <th>prob</th>\n",
       "    </tr>\n",
       "    <tr>\n",
       "      <th>tag</th>\n",
       "      <th></th>\n",
       "      <th></th>\n",
       "      <th></th>\n",
       "      <th></th>\n",
       "      <th></th>\n",
       "    </tr>\n",
       "  </thead>\n",
       "  <tbody>\n",
       "    <tr>\n",
       "      <th>entity-framework</th>\n",
       "      <td>   710</td>\n",
       "      <td>   710</td>\n",
       "      <td>    2</td>\n",
       "      <td>    2</td>\n",
       "      <td> 1.000000</td>\n",
       "    </tr>\n",
       "    <tr>\n",
       "      <th>twitter-bootstrap</th>\n",
       "      <td>   786</td>\n",
       "      <td>   786</td>\n",
       "      <td>    9</td>\n",
       "      <td>    9</td>\n",
       "      <td> 1.000000</td>\n",
       "    </tr>\n",
       "    <tr>\n",
       "      <th>google-chrome</th>\n",
       "      <td>   781</td>\n",
       "      <td>   781</td>\n",
       "      <td>    2</td>\n",
       "      <td>    2</td>\n",
       "      <td> 1.000000</td>\n",
       "    </tr>\n",
       "    <tr>\n",
       "      <th>unit-testing</th>\n",
       "      <td>   963</td>\n",
       "      <td>   963</td>\n",
       "      <td>    8</td>\n",
       "      <td>    8</td>\n",
       "      <td> 1.000000</td>\n",
       "    </tr>\n",
       "    <tr>\n",
       "      <th>google-maps</th>\n",
       "      <td>  1070</td>\n",
       "      <td>  1070</td>\n",
       "      <td>    1</td>\n",
       "      <td>    1</td>\n",
       "      <td> 1.000000</td>\n",
       "    </tr>\n",
       "    <tr>\n",
       "      <th>angularjs</th>\n",
       "      <td>   740</td>\n",
       "      <td>   740</td>\n",
       "      <td>  331</td>\n",
       "      <td>  330</td>\n",
       "      <td> 0.996979</td>\n",
       "    </tr>\n",
       "    <tr>\n",
       "      <th>delphi</th>\n",
       "      <td>   689</td>\n",
       "      <td>   689</td>\n",
       "      <td>  295</td>\n",
       "      <td>  293</td>\n",
       "      <td> 0.993220</td>\n",
       "    </tr>\n",
       "    <tr>\n",
       "      <th>matlab</th>\n",
       "      <td>   777</td>\n",
       "      <td>   777</td>\n",
       "      <td>  402</td>\n",
       "      <td>  399</td>\n",
       "      <td> 0.992537</td>\n",
       "    </tr>\n",
       "    <tr>\n",
       "      <th>node.js</th>\n",
       "      <td>  1162</td>\n",
       "      <td>  1162</td>\n",
       "      <td>  317</td>\n",
       "      <td>  313</td>\n",
       "      <td> 0.987382</td>\n",
       "    </tr>\n",
       "    <tr>\n",
       "      <th>perl</th>\n",
       "      <td>   749</td>\n",
       "      <td>   749</td>\n",
       "      <td>  331</td>\n",
       "      <td>  326</td>\n",
       "      <td> 0.984894</td>\n",
       "    </tr>\n",
       "    <tr>\n",
       "      <th>scala</th>\n",
       "      <td>   668</td>\n",
       "      <td>   668</td>\n",
       "      <td>  287</td>\n",
       "      <td>  281</td>\n",
       "      <td> 0.979094</td>\n",
       "    </tr>\n",
       "    <tr>\n",
       "      <th>django</th>\n",
       "      <td>  1892</td>\n",
       "      <td>  1892</td>\n",
       "      <td> 1147</td>\n",
       "      <td> 1120</td>\n",
       "      <td> 0.976460</td>\n",
       "    </tr>\n",
       "    <tr>\n",
       "      <th>vim</th>\n",
       "      <td>   677</td>\n",
       "      <td>   677</td>\n",
       "      <td>  354</td>\n",
       "      <td>  345</td>\n",
       "      <td> 0.974576</td>\n",
       "    </tr>\n",
       "    <tr>\n",
       "      <th>android</th>\n",
       "      <td> 13097</td>\n",
       "      <td> 13097</td>\n",
       "      <td> 5961</td>\n",
       "      <td> 5794</td>\n",
       "      <td> 0.971985</td>\n",
       "    </tr>\n",
       "    <tr>\n",
       "      <th>wpf</th>\n",
       "      <td>  2150</td>\n",
       "      <td>  2150</td>\n",
       "      <td> 1048</td>\n",
       "      <td> 1017</td>\n",
       "      <td> 0.970420</td>\n",
       "    </tr>\n",
       "    <tr>\n",
       "      <th>git</th>\n",
       "      <td>  1721</td>\n",
       "      <td>  1721</td>\n",
       "      <td> 1079</td>\n",
       "      <td> 1041</td>\n",
       "      <td> 0.964782</td>\n",
       "    </tr>\n",
       "    <tr>\n",
       "      <th>python</th>\n",
       "      <td>  8009</td>\n",
       "      <td>  8009</td>\n",
       "      <td> 3235</td>\n",
       "      <td> 3121</td>\n",
       "      <td> 0.964760</td>\n",
       "    </tr>\n",
       "    <tr>\n",
       "      <th>php</th>\n",
       "      <td> 12321</td>\n",
       "      <td> 12321</td>\n",
       "      <td> 4542</td>\n",
       "      <td> 4377</td>\n",
       "      <td> 0.963672</td>\n",
       "    </tr>\n",
       "    <tr>\n",
       "      <th>magento</th>\n",
       "      <td>   681</td>\n",
       "      <td>   681</td>\n",
       "      <td>  519</td>\n",
       "      <td>  500</td>\n",
       "      <td> 0.963391</td>\n",
       "    </tr>\n",
       "    <tr>\n",
       "      <th>hibernate</th>\n",
       "      <td>   890</td>\n",
       "      <td>   890</td>\n",
       "      <td>  450</td>\n",
       "      <td>  432</td>\n",
       "      <td> 0.960000</td>\n",
       "    </tr>\n",
       "  </tbody>\n",
       "</table>\n",
       "</div>"
      ],
      "text/plain": [
       "                    freq  in_tag  in_title  in_both      prob\n",
       "tag                                                          \n",
       "entity-framework     710     710         2        2  1.000000\n",
       "twitter-bootstrap    786     786         9        9  1.000000\n",
       "google-chrome        781     781         2        2  1.000000\n",
       "unit-testing         963     963         8        8  1.000000\n",
       "google-maps         1070    1070         1        1  1.000000\n",
       "angularjs            740     740       331      330  0.996979\n",
       "delphi               689     689       295      293  0.993220\n",
       "matlab               777     777       402      399  0.992537\n",
       "node.js             1162    1162       317      313  0.987382\n",
       "perl                 749     749       331      326  0.984894\n",
       "scala                668     668       287      281  0.979094\n",
       "django              1892    1892      1147     1120  0.976460\n",
       "vim                  677     677       354      345  0.974576\n",
       "android            13097   13097      5961     5794  0.971985\n",
       "wpf                 2150    2150      1048     1017  0.970420\n",
       "git                 1721    1721      1079     1041  0.964782\n",
       "python              8009    8009      3235     3121  0.964760\n",
       "php                12321   12321      4542     4377  0.963672\n",
       "magento              681     681       519      500  0.963391\n",
       "hibernate            890     890       450      432  0.960000"
      ]
     },
     "execution_count": 20,
     "metadata": {},
     "output_type": "execute_result"
    }
   ],
   "source": [
    "tags[tags.prob.notnull()].sort('prob', ascending=False)[:20]"
   ]
  },
  {
   "cell_type": "markdown",
   "metadata": {},
   "source": [
    "This table shows us great news!  When words like Android or Python show up in the title, we know that they should also have that tag about 95% of the time.  The same holds for most of the other 20 top tags.  The least predictive tag is *string*, which only shows up as a tag about 30% percent of the time."
   ]
  },
  {
   "cell_type": "markdown",
   "metadata": {},
   "source": [
    "# User Exploration"
   ]
  },
  {
   "cell_type": "code",
   "execution_count": 21,
   "metadata": {
    "collapsed": false
   },
   "outputs": [
    {
     "name": "stdout",
     "output_type": "stream",
     "text": [
      "Number of unique owners: 111038\n",
      "Max number of questions asked by any user: 146\n"
     ]
    },
    {
     "data": {
      "text/plain": [
       "<matplotlib.text.Text at 0x15ac6ef0>"
      ]
     },
     "execution_count": 21,
     "metadata": {},
     "output_type": "execute_result"
    },
    {
     "data": {
      "image/png": "[encoded data removed]",
      "text/plain": [
       "<matplotlib.figure.Figure at 0x151bc080>"
      ]
     },
     "metadata": {},
     "output_type": "display_data"
    }
   ],
   "source": [
    "print \"Number of unique owners:\", len(questions['User_id'].unique())\n",
    "grouped = questions.groupby('User_id')\n",
    "owners_num_questions = np.array(grouped.size())\n",
    "print \"Max number of questions asked by any user:\", owners_num_questions.max()\n",
    "x = plt.hist(owners_num_questions,146, log=True)\n",
    "plt.xlabel('Number of Questions Asked Per User')\n",
    "plt.ylabel('Frequency')\n",
    "plt.title('Frequency of # of Questions Asked Per User')"
   ]
  },
  {
   "cell_type": "markdown",
   "metadata": {},
   "source": [
    "We wanted to see if the number of questions a user asks in this period has any relationships with the percentage of duplicated tags they use. We are interested in this question, because the hypothesis is that the questions they ask will be in similar fields and they will have similar tagging behavior."
   ]
  },
  {
   "cell_type": "code",
   "execution_count": 35,
   "metadata": {
    "collapsed": false
   },
   "outputs": [
    {
     "data": {
      "text/plain": [
       "(0, 160.0)"
      ]
     },
     "execution_count": 35,
     "metadata": {},
     "output_type": "execute_result"
    },
    {
     "data": {
      "image/png": "[encoded data removed]",
      "text/plain": [
       "<matplotlib.figure.Figure at 0x139defcd0>"
      ]
     },
     "metadata": {},
     "output_type": "display_data"
    }
   ],
   "source": [
    "questions['Tags_list']  = [x.split( ) for x in questions['Tags']]\n",
    "grouped = questions.groupby('User_id')\n",
    "grouped_tag_list = grouped['Tags_list'].agg({'Duplicate_Percent':lambda x: 1 - float(len(set(np.sum(x))))/len(np.sum(x))})\n",
    "userdf = pd.DataFrame(grouped_tag_list).join(grouped['User_id'].agg({'Size':np.size}))\n",
    "userdf = userdf[userdf.Size > 1]\n",
    "plt.scatter(userdf.Size, userdf.Duplicate_Percent*100, label = '% Duplicated Tags')\n",
    "grouped1 = userdf.groupby('Size')\n",
    "plt.plot(grouped1.size().keys(), grouped1['Duplicate_Percent'].agg(np.mean)*100,'ro', label = 'Average % Duplicated Tags')\n",
    "plt.xlabel('Number of Questions Asked')\n",
    "plt.ylabel('% Duplicated Tags') \n",
    "plt.title('% Duplicated Tags vs Number of Questions Asked')\n",
    "plt.legend(loc=4)\n",
    "pyl.ylim(0, pyl.ylim()[1])\n",
    "pyl.xlim(0, pyl.xlim()[1])"
   ]
  },
  {
   "cell_type": "markdown",
   "metadata": {},
   "source": [
    "# Question Body Exploration"
   ]
  },
  {
   "cell_type": "markdown",
   "metadata": {},
   "source": [
    "Body of the question is an exploration of the problem.  It typically involves explaining the user's problem, explaining their environment, their goal, showing some example code, guessing why it doesn't work, and putting forth a potential hypothesis.  However, this format can vary greatly, as can the quality of the question.  This variation is part of the reason that stack exchange questions have scores associated with them, allowing users to vote questions up or down depending on whether they question topic and structure are good."
   ]
  },
  {
   "cell_type": "markdown",
   "metadata": {},
   "source": [
    "## Code Snippets"
   ]
  },
  {
   "cell_type": "markdown",
   "metadata": {},
   "source": [
    "This high amount of variation in the text and format of a question's body will probably cause more noise than useful data.  However, one part of the question body that is unique to that part of the question are the code snippets.  Users posting technical questions often post a snippet of their code when asking for advice so that other users can point out flaws or syntax errors.  By looking at the code snippets with a syntax analyzer (using the pygments library function *guess_lexer()*), we can attempt to guess the coding language for a question.  And since our previous analysis has shown that the most common tags are generally programming languages, accurately predicting this may be extremely helpful to our actual prediction."
   ]
  },
  {
   "cell_type": "code",
   "execution_count": 187,
   "metadata": {
    "collapsed": false
   },
   "outputs": [
    {
     "data": {
      "text/html": [
       "<div style=\"max-height:1000px;max-width:1500px;overflow:auto;\">\n",
       "<table border=\"1\" class=\"dataframe\">\n",
       "  <thead>\n",
       "    <tr style=\"text-align: right;\">\n",
       "      <th></th>\n",
       "      <th>Title</th>\n",
       "      <th>Tags</th>\n",
       "      <th>lang</th>\n",
       "    </tr>\n",
       "  </thead>\n",
       "  <tbody>\n",
       "    <tr>\n",
       "      <th>0</th>\n",
       "      <td>    How do I learn to WRITE programs from scratch?</td>\n",
       "      <td>                java</td>\n",
       "      <td> None</td>\n",
       "    </tr>\n",
       "    <tr>\n",
       "      <th>1</th>\n",
       "      <td> How do I delete the first part of a string in ...</td>\n",
       "      <td>       python string</td>\n",
       "      <td>    c</td>\n",
       "    </tr>\n",
       "    <tr>\n",
       "      <th>2</th>\n",
       "      <td>     Why final is not applicable to array in Java?</td>\n",
       "      <td>                java</td>\n",
       "      <td> None</td>\n",
       "    </tr>\n",
       "    <tr>\n",
       "      <th>3</th>\n",
       "      <td> Determining the length of a UTF-8 response in ...</td>\n",
       "      <td>    http asp-classic</td>\n",
       "      <td>    c</td>\n",
       "    </tr>\n",
       "    <tr>\n",
       "      <th>4</th>\n",
       "      <td>              Draw large off screen form to bitmap</td>\n",
       "      <td> c# image bitmap gdi</td>\n",
       "      <td> None</td>\n",
       "    </tr>\n",
       "  </tbody>\n",
       "</table>\n",
       "</div>"
      ],
      "text/plain": [
       "                                               Title                 Tags  lang\n",
       "0     How do I learn to WRITE programs from scratch?                 java  None\n",
       "1  How do I delete the first part of a string in ...        python string     c\n",
       "2      Why final is not applicable to array in Java?                 java  None\n",
       "3  Determining the length of a UTF-8 response in ...     http asp-classic     c\n",
       "4               Draw large off screen form to bitmap  c# image bitmap gdi  None"
      ]
     },
     "execution_count": 187,
     "metadata": {},
     "output_type": "execute_result"
    }
   ],
   "source": [
    "# attempt to identify coding language for each question\n",
    "lang = []\n",
    "for body in questions.Body:\n",
    "    \n",
    "    # parse HTML body of question\n",
    "    body = DOM(body)\n",
    "    \n",
    "    # get code snippets\n",
    "    code = body.by_tag('code')\n",
    "    \n",
    "    # predict language from first snippet if exists\n",
    "    if len(code) > 0:\n",
    "        code = code[0].content\n",
    "        lang.append(guess_lexer(code).name.lower())\n",
    "    else:\n",
    "        lang.append(None)\n",
    "        \n",
    "questions['lang'] = lang\n",
    "questions[['Title', 'Tags', 'lang']].head()"
   ]
  },
  {
   "cell_type": "code",
   "execution_count": 188,
   "metadata": {
    "collapsed": false
   },
   "outputs": [
    {
     "name": "stdout",
     "output_type": "stream",
     "text": [
      "Number of times each language was predicted:\n",
      "                      lang\n",
      "lang                      \n",
      "c                    93833\n",
      "javascript+lasso      8456\n",
      "objective-c           3863\n",
      "actionscript 3        1781\n",
      "systemverilog         1475\n",
      "css+lasso              767\n",
      "ini                    663\n",
      "genshi                 486\n",
      "debian sourcelist      405\n",
      "prolog                 298\n",
      "matlab                 167\n",
      "perl                   151\n",
      "bash                   139\n",
      "restructuredtext        97\n",
      "numpy                   85\n",
      "aspx-cs                 47\n",
      "scalate server page     41\n",
      "django/jinja            38\n",
      "xml+lasso               31\n",
      "gas                     13\n",
      "objective-j             11\n",
      "tex                      9\n",
      "python 3                 9\n",
      "ruby                     8\n",
      "diff                     8\n",
      "aspx-vb                  6\n",
      "groff                    5\n",
      "smarty                   5\n",
      "coq                      3\n",
      "reg                      3\n",
      "logos                    1\n",
      "html+lasso               1\n"
     ]
    }
   ],
   "source": [
    "print \"Number of times each language was predicted:\"\n",
    "print questions[['lang']].groupby('lang').count().sort('lang', ascending=False)"
   ]
  },
  {
   "cell_type": "code",
   "execution_count": 189,
   "metadata": {
    "collapsed": false
   },
   "outputs": [
    {
     "name": "stdout",
     "output_type": "stream",
     "text": [
      "Percent of questions with some language prediction: 59.54\n"
     ]
    }
   ],
   "source": [
    "print \"Percent of questions with some language prediction: %.2f\" % (len(questions[questions.lang.notnull()]) / float(len(questions)) * 100)"
   ]
  },
  {
   "cell_type": "markdown",
   "metadata": {},
   "source": [
    "60% of questions have some snippet of code that we can use for prediction.  Interestingly, the first several questions in our data set did not have any code snippets.  There questions did, however, have a tag in their title.  This is likely a good thing for our analysis since it may indicate that the code snippets and predicting tags from the title are not overlapping sets.  That is to say, these different methods are improving our predictions for different parts of the data.  We also notice that the some languages are predicted with unusual formatting, such as *javascript+lasso*.  When users tag a question on stack exchange they are much more likely to tag *javascript* than *lasso*.  For this reason we will split these lexers and just look at the primary name (the part before the \"+\")."
   ]
  },
  {
   "cell_type": "markdown",
   "metadata": {},
   "source": [
    "In that same way that we predicting which tags in the title were the best signals for actual tags, we look at the estimated languages that best predict a tag.  In this case we are probably testing the efficacy of the lexer guesser than anything else."
   ]
  },
  {
   "cell_type": "code",
   "execution_count": 190,
   "metadata": {
    "collapsed": false
   },
   "outputs": [],
   "source": [
    "\"\"\"\n",
    "Function\n",
    "--------\n",
    "count_correct_lang\n",
    "\n",
    "Parameters\n",
    "----------\n",
    "questions : DataFrame\n",
    "  DataFrame of questions\n",
    "  \n",
    "Returns\n",
    "--------\n",
    "A int\n",
    "  the number of correctly guessed languages\n",
    "\"\"\"\n",
    "def count_correct_lang(questions):\n",
    "    correct = 0\n",
    "    \n",
    "    # loop through questions\n",
    "    for i in range(len(questions)):\n",
    "        \n",
    "        # get question and tags\n",
    "        question = questions.irow(i)\n",
    "        q_tags = question['Tags'].split()\n",
    "        \n",
    "        # only look at questions with a language prediction\n",
    "        if question['lang']:\n",
    "            \n",
    "            # get first part of lanuage descriptor\n",
    "            lang = question['lang'].replace(' ','-').split('+')[0]\n",
    "             \n",
    "            # check if language is in tags\n",
    "            if lang in q_tags:\n",
    "                correct += 1\n",
    "                    \n",
    "    return correct"
   ]
  },
  {
   "cell_type": "code",
   "execution_count": 191,
   "metadata": {
    "collapsed": false
   },
   "outputs": [
    {
     "name": "stdout",
     "output_type": "stream",
     "text": [
      "Questions with predicted languages: 112905\n",
      "Number correct: 7046\n",
      "Percent correct: 6.24\n"
     ]
    }
   ],
   "source": [
    "# determine the number of correct languages with the initial dataset\n",
    "correct = count_correct_lang(questions)\n",
    "print \"Questions with predicted languages: %d\" % len(questions[questions.lang.notnull()])\n",
    "print \"Number correct: %d\" % correct        \n",
    "print \"Percent correct: %.2f\" % (correct / float(len(questions[questions.lang.notnull()])) * 100)"
   ]
  },
  {
   "cell_type": "markdown",
   "metadata": {},
   "source": [
    "Our initial language tag prediction is very low, but this may be because some languages (like C) are a catch-all for short snippets of code from a variety of languages.  With this in mind, we re-evaluate our prediction percentage without C."
   ]
  },
  {
   "cell_type": "code",
   "execution_count": 192,
   "metadata": {
    "collapsed": false
   },
   "outputs": [
    {
     "name": "stdout",
     "output_type": "stream",
     "text": [
      "Questions with predicted languages (excluding C): 19072\n",
      "Number correct: 5023\n",
      "Percent correct: 26.34\n"
     ]
    }
   ],
   "source": [
    "# exclude C from the search\n",
    "test = questions[questions.lang != 'c']\n",
    "correct = count_correct_lang(test)\n",
    "print \"Questions with predicted languages (excluding C): %d\" % len(test[test.lang.notnull()])\n",
    "print \"Number correct: %d\" % correct        \n",
    "print \"Percent correct: %.2f\" % (correct / float(len(test[test.lang.notnull()])) * 100)"
   ]
  },
  {
   "cell_type": "markdown",
   "metadata": {},
   "source": [
    "Our language prediction correctness increased by about five times, which is a great sign.  Now we categorize the prediction accuracy on a per-langauge basis to determine which languages we should predict on and which ones have little predictive power."
   ]
  },
  {
   "cell_type": "code",
   "execution_count": 193,
   "metadata": {
    "collapsed": false
   },
   "outputs": [],
   "source": [
    "# create a dataframe of languages with number of uses and times correct\n",
    "langs = pd.DataFrame({'lang': questions[questions.lang.notnull()].lang.unique()})\n",
    "langs['uses'] = np.zeros(len(langs))\n",
    "langs['correct'] = np.zeros(len(langs))\n",
    "langs = langs.set_index('lang')\n",
    "\n",
    "# iterate through questions\n",
    "for i in range(len(questions)):\n",
    "    \n",
    "    # get question and tags\n",
    "    question = questions.irow(i)\n",
    "    q_tags = question['Tags'].split()\n",
    "    \n",
    "    # only look at questions with a language prediction\n",
    "    if question['lang']:\n",
    "    \n",
    "        # get first part of lanuage descriptor\n",
    "        lang = question['lang'].replace(' ','-').split('+')[0]\n",
    "         \n",
    "        # increment language use counter\n",
    "        langs['uses'][question['lang']] += 1\n",
    "        \n",
    "        # increment language correct counter if correct prediction\n",
    "        if lang in q_tags:\n",
    "            langs['correct'][question['lang']] += 1"
   ]
  },
  {
   "cell_type": "code",
   "execution_count": 194,
   "metadata": {
    "collapsed": false
   },
   "outputs": [
    {
     "data": {
      "text/html": [
       "<div style=\"max-height:1000px;max-width:1500px;overflow:auto;\">\n",
       "<table border=\"1\" class=\"dataframe\">\n",
       "  <thead>\n",
       "    <tr style=\"text-align: right;\">\n",
       "      <th></th>\n",
       "      <th>uses</th>\n",
       "      <th>correct</th>\n",
       "      <th>prob</th>\n",
       "    </tr>\n",
       "    <tr>\n",
       "      <th>lang</th>\n",
       "      <th></th>\n",
       "      <th></th>\n",
       "      <th></th>\n",
       "    </tr>\n",
       "  </thead>\n",
       "  <tbody>\n",
       "    <tr>\n",
       "      <th>javascript+lasso</th>\n",
       "      <td>  8456</td>\n",
       "      <td> 3080</td>\n",
       "      <td> 0.364238</td>\n",
       "    </tr>\n",
       "    <tr>\n",
       "      <th>c</th>\n",
       "      <td> 93833</td>\n",
       "      <td> 2023</td>\n",
       "      <td> 0.021560</td>\n",
       "    </tr>\n",
       "    <tr>\n",
       "      <th>objective-c</th>\n",
       "      <td>  3863</td>\n",
       "      <td> 1352</td>\n",
       "      <td> 0.349987</td>\n",
       "    </tr>\n",
       "    <tr>\n",
       "      <th>css+lasso</th>\n",
       "      <td>   767</td>\n",
       "      <td>  211</td>\n",
       "      <td> 0.275098</td>\n",
       "    </tr>\n",
       "    <tr>\n",
       "      <th>perl</th>\n",
       "      <td>   151</td>\n",
       "      <td>  139</td>\n",
       "      <td> 0.920530</td>\n",
       "    </tr>\n",
       "    <tr>\n",
       "      <th>prolog</th>\n",
       "      <td>   298</td>\n",
       "      <td>  106</td>\n",
       "      <td> 0.355705</td>\n",
       "    </tr>\n",
       "    <tr>\n",
       "      <th>bash</th>\n",
       "      <td>   139</td>\n",
       "      <td>   83</td>\n",
       "      <td> 0.597122</td>\n",
       "    </tr>\n",
       "    <tr>\n",
       "      <th>matlab</th>\n",
       "      <td>   167</td>\n",
       "      <td>   18</td>\n",
       "      <td> 0.107784</td>\n",
       "    </tr>\n",
       "    <tr>\n",
       "      <th>actionscript 3</th>\n",
       "      <td>  1781</td>\n",
       "      <td>    9</td>\n",
       "      <td> 0.005053</td>\n",
       "    </tr>\n",
       "    <tr>\n",
       "      <th>ruby</th>\n",
       "      <td>     8</td>\n",
       "      <td>    8</td>\n",
       "      <td> 1.000000</td>\n",
       "    </tr>\n",
       "    <tr>\n",
       "      <th>smarty</th>\n",
       "      <td>     5</td>\n",
       "      <td>    4</td>\n",
       "      <td> 0.800000</td>\n",
       "    </tr>\n",
       "    <tr>\n",
       "      <th>ini</th>\n",
       "      <td>   663</td>\n",
       "      <td>    3</td>\n",
       "      <td> 0.004525</td>\n",
       "    </tr>\n",
       "    <tr>\n",
       "      <th>tex</th>\n",
       "      <td>     9</td>\n",
       "      <td>    3</td>\n",
       "      <td> 0.333333</td>\n",
       "    </tr>\n",
       "    <tr>\n",
       "      <th>diff</th>\n",
       "      <td>     8</td>\n",
       "      <td>    2</td>\n",
       "      <td> 0.250000</td>\n",
       "    </tr>\n",
       "    <tr>\n",
       "      <th>restructuredtext</th>\n",
       "      <td>    97</td>\n",
       "      <td>    2</td>\n",
       "      <td> 0.020619</td>\n",
       "    </tr>\n",
       "    <tr>\n",
       "      <th>gas</th>\n",
       "      <td>    13</td>\n",
       "      <td>    1</td>\n",
       "      <td> 0.076923</td>\n",
       "    </tr>\n",
       "    <tr>\n",
       "      <th>xml+lasso</th>\n",
       "      <td>    31</td>\n",
       "      <td>    1</td>\n",
       "      <td> 0.032258</td>\n",
       "    </tr>\n",
       "    <tr>\n",
       "      <th>genshi</th>\n",
       "      <td>   486</td>\n",
       "      <td>    1</td>\n",
       "      <td> 0.002058</td>\n",
       "    </tr>\n",
       "    <tr>\n",
       "      <th>systemverilog</th>\n",
       "      <td>  1475</td>\n",
       "      <td>    0</td>\n",
       "      <td> 0.000000</td>\n",
       "    </tr>\n",
       "    <tr>\n",
       "      <th>numpy</th>\n",
       "      <td>    85</td>\n",
       "      <td>    0</td>\n",
       "      <td> 0.000000</td>\n",
       "    </tr>\n",
       "  </tbody>\n",
       "</table>\n",
       "</div>"
      ],
      "text/plain": [
       "                   uses  correct      prob\n",
       "lang                                      \n",
       "javascript+lasso   8456     3080  0.364238\n",
       "c                 93833     2023  0.021560\n",
       "objective-c        3863     1352  0.349987\n",
       "css+lasso           767      211  0.275098\n",
       "perl                151      139  0.920530\n",
       "prolog              298      106  0.355705\n",
       "bash                139       83  0.597122\n",
       "matlab              167       18  0.107784\n",
       "actionscript 3     1781        9  0.005053\n",
       "ruby                  8        8  1.000000\n",
       "smarty                5        4  0.800000\n",
       "ini                 663        3  0.004525\n",
       "tex                   9        3  0.333333\n",
       "diff                  8        2  0.250000\n",
       "restructuredtext     97        2  0.020619\n",
       "gas                  13        1  0.076923\n",
       "xml+lasso            31        1  0.032258\n",
       "genshi              486        1  0.002058\n",
       "systemverilog      1475        0  0.000000\n",
       "numpy                85        0  0.000000"
      ]
     },
     "execution_count": 194,
     "metadata": {},
     "output_type": "execute_result"
    }
   ],
   "source": [
    "# calculate correctness probability\n",
    "langs['prob'] = langs.correct / langs.uses.astype(float)\n",
    "\n",
    "# sort by number of times correct\n",
    "langs.sort('correct', ascending=False)[:20]"
   ]
  },
  {
   "cell_type": "markdown",
   "metadata": {},
   "source": [
    "As seen by the table, unlike the predictive power of words in the title, predicting the language is much less accurate.  For any of the reasonably common tags, the best we can hope for is about 30-40% accuracy.  The languages that fall under this category are JavaScript, Objective-C, CSS, Perl, ProLog, and Bash."
   ]
  },
  {
   "cell_type": "markdown",
   "metadata": {},
   "source": [
    "## Exploring the Text of the Body"
   ]
  },
  {
   "cell_type": "markdown",
   "metadata": {},
   "source": [
    "Despite our previous comments about the noise we expect from including the text of the Body in the analysis, we will still explore a couple simple questions.  For instance, is there a correlation between the number of words in the question and the number of tags?  And does the length of the question vary across user reputation?  We start with a function that takes the HTML formatted body of the text and outputs just the important strings."
   ]
  },
  {
   "cell_type": "code",
   "execution_count": 195,
   "metadata": {
    "collapsed": false
   },
   "outputs": [],
   "source": [
    "\"\"\"\n",
    "Function\n",
    "--------\n",
    "body_to_text\n",
    "  removes the code and tags from a body of a question\n",
    "\n",
    "Parameters\n",
    "----------\n",
    "body : String\n",
    "  string of raw html from question body\n",
    "  \n",
    "Returns\n",
    "--------\n",
    "A String\n",
    "  plain string without any code, tags, or newlines\n",
    "\"\"\"\n",
    "def body_to_text(body):\n",
    "    \n",
    "    # remove code \n",
    "    text = pw.strip_between('<code>', '</code>', body)\n",
    "    \n",
    "    # remove tags whitespace, and newlines\n",
    "    text = pw.plaintext(text).strip().replace('\\n',' ')\n",
    "    \n",
    "    # convert text to lowercase\n",
    "    return text.lower()"
   ]
  },
  {
   "cell_type": "code",
   "execution_count": 196,
   "metadata": {
    "collapsed": false
   },
   "outputs": [],
   "source": [
    "lengths = []\n",
    "for i in range(len(questions)):\n",
    "    question = questions.irow(i)\n",
    "    lengths.append(len(question['Body'].split()))\n",
    "questions['n_Body'] = lengths"
   ]
  },
  {
   "cell_type": "code",
   "execution_count": 197,
   "metadata": {
    "collapsed": false
   },
   "outputs": [
    {
     "name": "stdout",
     "output_type": "stream",
     "text": [
      "Mean number of words in body: 130.80\n",
      "Medain number of words in body: 95\n"
     ]
    }
   ],
   "source": [
    "print \"Mean number of words in body: %.2f\" % questions.n_Body.mean()\n",
    "print \"Medain number of words in body: %d\" % np.median(questions.n_Body)"
   ]
  },
  {
   "cell_type": "code",
   "execution_count": 198,
   "metadata": {
    "collapsed": false
   },
   "outputs": [
    {
     "name": "stdout",
     "output_type": "stream",
     "text": [
      "          n_Body    n_Tags\n",
      "n_Body  1.000000  0.145806\n",
      "n_Tags  0.145806  1.000000\n"
     ]
    },
    {
     "data": {
      "image/png": "[encoded data removed]",
      "text/plain": [
       "<matplotlib.figure.Figure at 0x40da0b38>"
      ]
     },
     "metadata": {},
     "output_type": "display_data"
    }
   ],
   "source": [
    "# correlation between number of tags and words in body\n",
    "print questions[['n_Body', 'n_Tags']].corr()\n",
    "\n",
    "# plot num tags vs. num words in body with best fit line\n",
    "x = questions.n_Body\n",
    "y = questions.n_Tags\n",
    "fit = pyl.polyfit(x,y,1)\n",
    "fit_fn = pyl.poly1d(fit)\n",
    "pyl.plot(x,y, 'yo', x, fit_fn(x), '--k', alpha=.05)\n",
    "pyl.ylim(0, pyl.ylim()[1])\n",
    "pyl.xlim(0, pyl.xlim()[1])\n",
    "plt.xlabel(\"Number of Words in Question Body\")\n",
    "plt.ylabel(\"Number of Tags\")\n",
    "plt.title(\"Number of Tags vs. Number of Words\")\n",
    "remove_border()"
   ]
  },
  {
   "cell_type": "markdown",
   "metadata": {},
   "source": [
    "There is a low correlation between the number of tags and the words in the body so the length of the body will not be especially helfpul in predicting the number of tags.  Nonetheless, there is some trend here."
   ]
  },
  {
   "cell_type": "markdown",
   "metadata": {},
   "source": [
    "# Tag Prediction"
   ]
  },
  {
   "cell_type": "markdown",
   "metadata": {},
   "source": [
    "We split the data downloaded into two sets, questions_training and questions_test (3/4 and 1/4 of the question set respectively)\n"
   ]
  },
  {
   "cell_type": "code",
   "execution_count": 5,
   "metadata": {
    "collapsed": false
   },
   "outputs": [
    {
     "data": {
      "text/html": [
       "<div style=\"max-height:1000px;max-width:1500px;overflow:auto;\">\n",
       "<table border=\"1\" class=\"dataframe\">\n",
       "  <thead>\n",
       "    <tr style=\"text-align: right;\">\n",
       "      <th></th>\n",
       "      <th>Answer_count</th>\n",
       "      <th>Body</th>\n",
       "      <th>Creation_date</th>\n",
       "      <th>Is_answered</th>\n",
       "      <th>Link</th>\n",
       "      <th>Question_id</th>\n",
       "      <th>Score</th>\n",
       "      <th>Tags</th>\n",
       "      <th>Title</th>\n",
       "      <th>View_count</th>\n",
       "      <th>Reputation</th>\n",
       "      <th>User_id</th>\n",
       "    </tr>\n",
       "  </thead>\n",
       "  <tbody>\n",
       "    <tr>\n",
       "      <th>0</th>\n",
       "      <td> 0</td>\n",
       "      <td> &lt;p&gt;I have a number of PHP scripts that I am tr...</td>\n",
       "      <td> 1386620377</td>\n",
       "      <td> False</td>\n",
       "      <td> http://stackoverflow.com/questions/20479918/de...</td>\n",
       "      <td> 20479918</td>\n",
       "      <td> 1</td>\n",
       "      <td>             http asp-classic</td>\n",
       "      <td> Determining the length of a UTF-8 response in ...</td>\n",
       "      <td>  9</td>\n",
       "      <td> 3171</td>\n",
       "      <td>  619852</td>\n",
       "    </tr>\n",
       "    <tr>\n",
       "      <th>1</th>\n",
       "      <td> 0</td>\n",
       "      <td> &lt;p&gt;I seem to have hit a snag in my app that is...</td>\n",
       "      <td> 1386649767</td>\n",
       "      <td> False</td>\n",
       "      <td> http://stackoverflow.com/questions/20486129/ha...</td>\n",
       "      <td> 20486129</td>\n",
       "      <td> 0</td>\n",
       "      <td> javascript meteor user-roles</td>\n",
       "      <td>    Handlebars function causing tight loop in code</td>\n",
       "      <td>  3</td>\n",
       "      <td>  178</td>\n",
       "      <td>  593622</td>\n",
       "    </tr>\n",
       "    <tr>\n",
       "      <th>2</th>\n",
       "      <td> 1</td>\n",
       "      <td> &lt;p&gt;I'm having an issue installing zmap on Cent...</td>\n",
       "      <td> 1386566071</td>\n",
       "      <td> False</td>\n",
       "      <td> http://stackoverflow.com/questions/20463635/zm...</td>\n",
       "      <td> 20463635</td>\n",
       "      <td> 0</td>\n",
       "      <td>          make install centos</td>\n",
       "      <td>                  zmap Install Configuration Error</td>\n",
       "      <td> 10</td>\n",
       "      <td>  101</td>\n",
       "      <td> 2518601</td>\n",
       "    </tr>\n",
       "    <tr>\n",
       "      <th>3</th>\n",
       "      <td> 2</td>\n",
       "      <td> &lt;p&gt;The single tooltip which shows different me...</td>\n",
       "      <td> 1386600912</td>\n",
       "      <td> False</td>\n",
       "      <td> http://stackoverflow.com/questions/20473604/to...</td>\n",
       "      <td> 20473604</td>\n",
       "      <td> 0</td>\n",
       "      <td>          c# winforms tooltip</td>\n",
       "      <td>                    Tooltip background alternation</td>\n",
       "      <td> 47</td>\n",
       "      <td>    1</td>\n",
       "      <td> 3070093</td>\n",
       "    </tr>\n",
       "    <tr>\n",
       "      <th>4</th>\n",
       "      <td> 0</td>\n",
       "      <td> &lt;p&gt;I am getting these errors if the DbgHelp.h ...</td>\n",
       "      <td> 1386649745</td>\n",
       "      <td> False</td>\n",
       "      <td> http://stackoverflow.com/questions/20486125/sy...</td>\n",
       "      <td> 20486125</td>\n",
       "      <td> 0</td>\n",
       "      <td>              c++ objective-c</td>\n",
       "      <td>                    Syntax error in DbgHelp.h file</td>\n",
       "      <td>  2</td>\n",
       "      <td>    1</td>\n",
       "      <td> 3085412</td>\n",
       "    </tr>\n",
       "  </tbody>\n",
       "</table>\n",
       "</div>"
      ],
      "text/plain": [
       "  Answer_count                                               Body  \\\n",
       "0            0  <p>I have a number of PHP scripts that I am tr...   \n",
       "1            0  <p>I seem to have hit a snag in my app that is...   \n",
       "2            1  <p>I'm having an issue installing zmap on Cent...   \n",
       "3            2  <p>The single tooltip which shows different me...   \n",
       "4            0  <p>I am getting these errors if the DbgHelp.h ...   \n",
       "\n",
       "   Creation_date Is_answered  \\\n",
       "0     1386620377       False   \n",
       "1     1386649767       False   \n",
       "2     1386566071       False   \n",
       "3     1386600912       False   \n",
       "4     1386649745       False   \n",
       "\n",
       "                                                Link  Question_id  Score  \\\n",
       "0  http://stackoverflow.com/questions/20479918/de...     20479918      1   \n",
       "1  http://stackoverflow.com/questions/20486129/ha...     20486129      0   \n",
       "2  http://stackoverflow.com/questions/20463635/zm...     20463635      0   \n",
       "3  http://stackoverflow.com/questions/20473604/to...     20473604      0   \n",
       "4  http://stackoverflow.com/questions/20486125/sy...     20486125      0   \n",
       "\n",
       "                           Tags  \\\n",
       "0              http asp-classic   \n",
       "1  javascript meteor user-roles   \n",
       "2           make install centos   \n",
       "3           c# winforms tooltip   \n",
       "4               c++ objective-c   \n",
       "\n",
       "                                               Title  View_count  Reputation  \\\n",
       "0  Determining the length of a UTF-8 response in ...           9        3171   \n",
       "1     Handlebars function causing tight loop in code           3         178   \n",
       "2                   zmap Install Configuration Error          10         101   \n",
       "3                     Tooltip background alternation          47           1   \n",
       "4                     Syntax error in DbgHelp.h file           2           1   \n",
       "\n",
       "   User_id  \n",
       "0   619852  \n",
       "1   593622  \n",
       "2  2518601  \n",
       "3  3070093  \n",
       "4  3085412  "
      ]
     },
     "execution_count": 5,
     "metadata": {},
     "output_type": "execute_result"
    }
   ],
   "source": [
    "#load training data\n",
    "questions_train = pd.read_csv('questions_train.csv')\n",
    "#filter out corrupted data\n",
    "questions_train = questions_train[questions_train['Creation_date'] > 100]\n",
    "questions_train = questions_train[~np.isnan(questions_train['Question_id'])]\n",
    "questions_train = questions_train[~np.isnan(questions_train['User_id'])]\n",
    "questions_train.reset_index(drop=True)\n",
    "questions_train.head()"
   ]
  },
  {
   "cell_type": "code",
   "execution_count": 17,
   "metadata": {
    "collapsed": false
   },
   "outputs": [
    {
     "data": {
      "text/html": [
       "<div style=\"max-height:1000px;max-width:1500px;overflow:auto;\">\n",
       "<table border=\"1\" class=\"dataframe\">\n",
       "  <thead>\n",
       "    <tr style=\"text-align: right;\">\n",
       "      <th></th>\n",
       "      <th>Answer_count</th>\n",
       "      <th>Body</th>\n",
       "      <th>Creation_date</th>\n",
       "      <th>Is_answered</th>\n",
       "      <th>Link</th>\n",
       "      <th>Question_id</th>\n",
       "      <th>Score</th>\n",
       "      <th>Tags</th>\n",
       "      <th>Title</th>\n",
       "      <th>View_count</th>\n",
       "      <th>Reputation</th>\n",
       "      <th>User_id</th>\n",
       "    </tr>\n",
       "  </thead>\n",
       "  <tbody>\n",
       "    <tr>\n",
       "      <th>0</th>\n",
       "      <td> 0</td>\n",
       "      <td> &lt;p&gt;I took a java class and a VB class this sem...</td>\n",
       "      <td> 1386649804</td>\n",
       "      <td> FALSE</td>\n",
       "      <td> http://stackoverflow.com/questions/20486137/ho...</td>\n",
       "      <td> 20486137</td>\n",
       "      <td> 0</td>\n",
       "      <td>                        java</td>\n",
       "      <td>    How do I learn to WRITE programs from scratch?</td>\n",
       "      <td>  1</td>\n",
       "      <td>  1</td>\n",
       "      <td> 3085406</td>\n",
       "    </tr>\n",
       "    <tr>\n",
       "      <th>1</th>\n",
       "      <td> 1</td>\n",
       "      <td> &lt;p&gt;Hello all I have a program that is dealing ...</td>\n",
       "      <td> 1386649706</td>\n",
       "      <td> FALSE</td>\n",
       "      <td> http://stackoverflow.com/questions/20486115/ho...</td>\n",
       "      <td> 20486115</td>\n",
       "      <td> 0</td>\n",
       "      <td>               python string</td>\n",
       "      <td> How do I delete the first part of a string in ...</td>\n",
       "      <td>  8</td>\n",
       "      <td> 43</td>\n",
       "      <td> 2649920</td>\n",
       "    </tr>\n",
       "    <tr>\n",
       "      <th>2</th>\n",
       "      <td> 5</td>\n",
       "      <td> &lt;p&gt;I tried using final keyword to array but st...</td>\n",
       "      <td> 1386649500</td>\n",
       "      <td>  TRUE</td>\n",
       "      <td> http://stackoverflow.com/questions/20486074/wh...</td>\n",
       "      <td> 20486074</td>\n",
       "      <td> 0</td>\n",
       "      <td>                        java</td>\n",
       "      <td>     Why final is not applicable to array in Java?</td>\n",
       "      <td> 26</td>\n",
       "      <td>  1</td>\n",
       "      <td> 2099274</td>\n",
       "    </tr>\n",
       "    <tr>\n",
       "      <th>3</th>\n",
       "      <td> 0</td>\n",
       "      <td> &lt;p&gt;I have a application that fills in fields o...</td>\n",
       "      <td> 1386649779</td>\n",
       "      <td> FALSE</td>\n",
       "      <td> http://stackoverflow.com/questions/20486133/dr...</td>\n",
       "      <td> 20486133</td>\n",
       "      <td> 0</td>\n",
       "      <td>         c# image bitmap gdi</td>\n",
       "      <td>              Draw large off screen form to bitmap</td>\n",
       "      <td>  2</td>\n",
       "      <td> 26</td>\n",
       "      <td> 1137759</td>\n",
       "    </tr>\n",
       "    <tr>\n",
       "      <th>4</th>\n",
       "      <td> 0</td>\n",
       "      <td> &lt;p&gt;I have a div with animation when you scroll...</td>\n",
       "      <td> 1386649775</td>\n",
       "      <td> FALSE</td>\n",
       "      <td> http://stackoverflow.com/questions/20486131/ma...</td>\n",
       "      <td> 20486131</td>\n",
       "      <td> 0</td>\n",
       "      <td> javascript jquery jquery-ui</td>\n",
       "      <td> Make a Div to return to its original position ...</td>\n",
       "      <td>  2</td>\n",
       "      <td>  1</td>\n",
       "      <td> 2879138</td>\n",
       "    </tr>\n",
       "  </tbody>\n",
       "</table>\n",
       "</div>"
      ],
      "text/plain": [
       "  Answer_count                                               Body  \\\n",
       "0            0  <p>I took a java class and a VB class this sem...   \n",
       "1            1  <p>Hello all I have a program that is dealing ...   \n",
       "2            5  <p>I tried using final keyword to array but st...   \n",
       "3            0  <p>I have a application that fills in fields o...   \n",
       "4            0  <p>I have a div with animation when you scroll...   \n",
       "\n",
       "   Creation_date Is_answered  \\\n",
       "0     1386649804       FALSE   \n",
       "1     1386649706       FALSE   \n",
       "2     1386649500        TRUE   \n",
       "3     1386649779       FALSE   \n",
       "4     1386649775       FALSE   \n",
       "\n",
       "                                                Link  Question_id  Score  \\\n",
       "0  http://stackoverflow.com/questions/20486137/ho...     20486137      0   \n",
       "1  http://stackoverflow.com/questions/20486115/ho...     20486115      0   \n",
       "2  http://stackoverflow.com/questions/20486074/wh...     20486074      0   \n",
       "3  http://stackoverflow.com/questions/20486133/dr...     20486133      0   \n",
       "4  http://stackoverflow.com/questions/20486131/ma...     20486131      0   \n",
       "\n",
       "                          Tags  \\\n",
       "0                         java   \n",
       "1                python string   \n",
       "2                         java   \n",
       "3          c# image bitmap gdi   \n",
       "4  javascript jquery jquery-ui   \n",
       "\n",
       "                                               Title  View_count  Reputation  \\\n",
       "0     How do I learn to WRITE programs from scratch?           1           1   \n",
       "1  How do I delete the first part of a string in ...           8          43   \n",
       "2      Why final is not applicable to array in Java?          26           1   \n",
       "3               Draw large off screen form to bitmap           2          26   \n",
       "4  Make a Div to return to its original position ...           2           1   \n",
       "\n",
       "   User_id  \n",
       "0  3085406  \n",
       "1  2649920  \n",
       "2  2099274  \n",
       "3  1137759  \n",
       "4  2879138  "
      ]
     },
     "execution_count": 17,
     "metadata": {},
     "output_type": "execute_result"
    }
   ],
   "source": [
    "#load test data\n",
    "questions_test = pd.read_csv('questions_test.csv')\n",
    "#filter out corrupted data\n",
    "questions_test = questions_test[questions_test['Creation_date'] > 100]\n",
    "questions_test = questions_test[~np.isnan(questions_test['Question_id'])]\n",
    "questions_test = questions_test[~np.isnan(questions_test['User_id'])]\n",
    "questions_test.reset_index(drop=True)\n",
    "questions_test.head()\n"
   ]
  },
  {
   "cell_type": "markdown",
   "metadata": {},
   "source": [
    "## Predicting Tags from Tags"
   ]
  },
  {
   "cell_type": "code",
   "execution_count": 4,
   "metadata": {
    "collapsed": false
   },
   "outputs": [],
   "source": [
    "from sklearn.feature_extraction.text import CountVectorizer\n",
    "from collections import defaultdict\n",
    "from itertools import combinations"
   ]
  },
  {
   "cell_type": "markdown",
   "metadata": {},
   "source": [
    "A tag-to-tag recommender is the final step of the recommender system, however it is also the simplest: it uses tags alone to predict future tags. Once a user has seeded us with an initial tag, we can begin predicting what other tags they will use based on historical tag co-ocurrences. Our first attempt at recommending tags from tags is examines word co-occurences on a pair-wise basis. We start off by examining each inputted tag in isolation.\n",
    "\n",
    "Methodology note: Because of the nature of a tag (some have punctuation), the usual CountVectorizer module does not effectively distinguish between tags. So we use the string \"split\" function instead. "
   ]
  },
  {
   "cell_type": "code",
   "execution_count": 7,
   "metadata": {
    "collapsed": false
   },
   "outputs": [],
   "source": [
    "occur = defaultdict(lambda : defaultdict(int))\n",
    "for item in questions_train.Tags.values:\n",
    "    item = str(item)\n",
    "    tags = item.split()\n",
    "    for i in tags:\n",
    "        for j in tags:\n",
    "            occur[i][j] += 1\n",
    "for k,v in occur.iteritems():\n",
    "    v.pop(k)\n",
    "    occur[k] = sorted(v.iteritems(), key=operator.itemgetter(1), reverse=True)\n",
    "            "
   ]
  },
  {
   "cell_type": "markdown",
   "metadata": {},
   "source": [
    "Now we have created dict of dicts $\\verb|occur|$, which tells us how many entries have the tags specified by our two indices. We sort within each tag, so that $\\verb|occur[tag]|$ tells us the most frequent tags first. Now, we write the function $\\verb|recommend_tags|$ to give us the words that occur most frequently with the seeded tags. In this version, we are comparing raw numbers, which advantages tags that are more common in general over less common tags. "
   ]
  },
  {
   "cell_type": "code",
   "execution_count": 8,
   "metadata": {
    "collapsed": false
   },
   "outputs": [
    {
     "data": {
      "text/plain": [
       "[('javascript', 1872),\n",
       " ('css', 1458),\n",
       " ('jquery', 1426),\n",
       " ('mysql', 932),\n",
       " ('arrays', 323),\n",
       " ('forms', 296),\n",
       " ('codeigniter', 267),\n",
       " ('json', 236),\n",
       " ('wordpress', 225),\n",
       " ('asp.net', 220)]"
      ]
     },
     "execution_count": 8,
     "metadata": {},
     "output_type": "execute_result"
    }
   ],
   "source": [
    "def recommend_tags(already, num, occur):\n",
    "    # check if a string was provided, or a list\n",
    "    if not isinstance(already, list):\n",
    "        already = already.split()\n",
    "    possibletags = defaultdict(int)\n",
    "    tags_nocount = []\n",
    "    count = 0\n",
    "    for item in already:\n",
    "        for i in occur[item]:\n",
    "            if i[0] in already:\n",
    "                continue\n",
    "            if possibletags[i[0]] == 0:\n",
    "                count += 1\n",
    "            possibletags[i[0]] += i[1]\n",
    "            if count == num:\n",
    "                break\n",
    "    possibletags = sorted(possibletags.iteritems(), key=operator.itemgetter(1), reverse=True)\n",
    "    return possibletags[:num]\n",
    "\n",
    "recommend_tags(['ajax', 'php', 'html'], 10, occur)\n",
    "        \n",
    "        "
   ]
  },
  {
   "cell_type": "markdown",
   "metadata": {},
   "source": [
    "Our function takes two parameters: a list of tags we have already inputed (this can be inputted as a list or as a string seperated by spaces, as provided in the file), and the number of tags it wants us to recommend. It generates recommendations by looking at the most frequent tags associated with each provided tag, if two provided tags point to the same tag, the scores are added together, and then the function returns the highest scoring tags. \n",
    "\n",
    "Because we did not normalize the co-occurence matrix, our recommender has a bias against less frequent tags. For example, suppose we provide tags X and Y. In general, 100% of the time that tag Y is used, tag Z is used, but tag Y is used very rarely to begin with. Tag X is a very common tag, and tag W occurs 50% of the time that tag X is used. Our recommender would probably prioritize W over Z for sufficiently small Y frequency, even though it is much more likely that tag Z will be used. The fact that Z is used very few times in absolute terms (even though it is used a lot in relative terms) makes it less likely to be chosen by our recommender. \n",
    "\n",
    "We modify with a slight change to our $\\verb|occur|$ dict:"
   ]
  },
  {
   "cell_type": "code",
   "execution_count": 10,
   "metadata": {
    "collapsed": false
   },
   "outputs": [],
   "source": [
    "occur2 = defaultdict(lambda : defaultdict(int))\n",
    "for item in questions_train.Tags.values:\n",
    "    item = str(item)\n",
    "    tags = item.split()\n",
    "    for i in tags:\n",
    "        for j in tags:\n",
    "            occur2[i][j] += 1\n",
    "for k,v in occur2.iteritems():\n",
    "    cts = v.pop(k)\n",
    "    # normalize\n",
    "    for k2, v2 in v.iteritems():\n",
    "        v[k2] = v2 * 1.0 / cts\n",
    "    occur2[k] = sorted(v.iteritems(), key=operator.itemgetter(1), reverse=True)\n",
    "            "
   ]
  },
  {
   "cell_type": "code",
   "execution_count": 11,
   "metadata": {
    "collapsed": false
   },
   "outputs": [
    {
     "data": {
      "text/plain": [
       "[('javascript', 0.6712034359422588),\n",
       " ('jquery', 0.6600073420154382),\n",
       " ('css', 0.3678725503381058),\n",
       " ('asp.net', 0.12396870571716562),\n",
       " ('mysql', 0.11767867714788188),\n",
       " ('json', 0.09646511052282328),\n",
       " ('jquery-ajax', 0.05900531379834119),\n",
       " ('forms', 0.05602329975810426),\n",
       " ('c#', 0.05563505886251597),\n",
       " ('java', 0.050755454930433375)]"
      ]
     },
     "execution_count": 11,
     "metadata": {},
     "output_type": "execute_result"
    }
   ],
   "source": [
    "recommend_tags(['ajax', 'php', 'html'], 10, occur2)"
   ]
  },
  {
   "cell_type": "markdown",
   "metadata": {},
   "source": [
    "The new, normalized vector gives us a rough probability that the user will use the tag supplied. The ordering of the list tells us that the new vector does indeed allow less common tags to bubble up: jquery is used more often with ajax then css is with html. So even though css is used more often, we know that our user is more likely to pick jquery, and our recommender puts that first. \n",
    "\n",
    "But we can still do better. Considering each supplied tag in isolation is not ideal; the reality is that the tags together tell us a story. While perhaps \"ajax\" is commonly used with \"asp.net,\" the presence of \"php\" tells us that maybe \"asp.net\" isn't of interest after all -- our user has already identified a different web language. How can we take the tags into consideration as a group?\n",
    "\n",
    "Our old structure only tells us about pair-wise relationships: this doesn't scale well when we want to know how a few tags work together. We restructure our data by creating a dict and a list. Our dict will tell us what entries a tag is in. The list helps us identify the other words used in an entry. "
   ]
  },
  {
   "cell_type": "code",
   "execution_count": 12,
   "metadata": {
    "collapsed": false
   },
   "outputs": [],
   "source": [
    "# create entry-word mappings\n",
    "to_id = defaultdict(list)\n",
    "from_id = []\n",
    "for item in questions_train.Tags.values:\n",
    "    item = str(item)\n",
    "    tags = item.split()\n",
    "    index = len(from_id)\n",
    "    from_id.append(tags)\n",
    "    for i in tags:\n",
    "        to_id[i].append(index)"
   ]
  },
  {
   "cell_type": "markdown",
   "metadata": {},
   "source": [
    "We now have a better foundation for examining tag groups. Now, we create a new function to examine these groups.\n",
    "\n",
    "The ideal is to find other entries that use *all* of the tags supplied. Someone else tagged \"php\" AND \"ajax\" AND \"html\"? Great! Tell us what else they used. If we can't find any such entry, then the next best thing is to look at pairs: entries that used \"php\" and \"ajax,\" or \"php\" and \"html.\" If all else fails, we fall back on examining each tag in isolation. "
   ]
  },
  {
   "cell_type": "code",
   "execution_count": 13,
   "metadata": {
    "collapsed": false
   },
   "outputs": [],
   "source": [
    "def recommend_tags_merge(already, num):\n",
    "    if not isinstance(already, list):\n",
    "        already = already.split()\n",
    "    possibletags = defaultdict(lambda: defaultdict(int))\n",
    "    tags_nocount = [] # list of all tags accessed \n",
    "    n = len(already) # number of tags we've been supplied with\n",
    "    used = [] # entries we've examined already\n",
    "    words = 0 # number of tags collected\n",
    "    # for every length l\n",
    "    for l in range(n, 1, -1):\n",
    "        # for every subset of length l\n",
    "        for c in combinations(already, l):\n",
    "            # find the entries that use all the tags in our subset\n",
    "            indices = set(to_id[c[0]])\n",
    "            for tag in c[1:]:\n",
    "                indices = indices.intersection(to_id[tag])\n",
    "            # if there are entries that use all the tags in our subset\n",
    "            if len(indices) > 0:\n",
    "                for entry in indices:\n",
    "                    # make sure we don't double count\n",
    "                    if entry not in used:\n",
    "                        for tag in from_id[entry]:\n",
    "                            # track frequencies weighted by number of tags present\n",
    "                            # the weighting is not necessary, but helps us prioritize tags that occur with more supplied tags\n",
    "                            if tag not in already and tag not in tags_nocount:\n",
    "                                possibletags[l][tag] += 1*l\n",
    "                        # mark entry used\n",
    "                        used.append(entry)\n",
    "        # don't look at the new tags we just added anymore\n",
    "        for tag in possibletags[l]:\n",
    "            tags_nocount.append(tag)\n",
    "        words += len(possibletags[l])\n",
    "        # we have enough tags, no need to search further\n",
    "        if words >= num:\n",
    "            break\n",
    "    else:\n",
    "        # worst case scenario: we try our old method\n",
    "        lasttry = recommend_tags(already, num, occur2)\n",
    "        #for tuples in lasttry:\n",
    "        #    if tuples[0] not in tags_nocount:\n",
    "        #        possibletags[1][tuples[0]] = tuples[1]\n",
    "    tagbag = []\n",
    "    # start with the tags that ocurred with the highest number of supplied tags\n",
    "    if n > 1:\n",
    "        for i in range(n, l-1, -1):\n",
    "            # sort within the subset size\n",
    "            a = sorted(possibletags[i].iteritems(), key=operator.itemgetter(1), reverse=True)\n",
    "            for item in a:\n",
    "                tagbag.append(item)\n",
    "    # make up for the difference if we hit our worst case scenario\n",
    "    if len(tagbag) < num:\n",
    "        diff = num - len(tagbag)\n",
    "        tagbag.append(lasttry[:diff])\n",
    "        \n",
    "    return tagbag[:num]"
   ]
  },
  {
   "cell_type": "code",
   "execution_count": 14,
   "metadata": {
    "collapsed": false
   },
   "outputs": [
    {
     "name": "stdout",
     "output_type": "stream",
     "text": [
      "[('javascript', 21), ('jquery', 9), ('forms', 6), ('payment-gateway', 3), ('internet-explorer', 3), ('api', 3), ('mysql', 3), ('jqtransform', 3), ('web-applications', 3), ('css', 70)]\n"
     ]
    }
   ],
   "source": [
    "print recommend_tags_merge('php ajax html', 10)\n"
   ]
  },
  {
   "cell_type": "markdown",
   "metadata": {},
   "source": [
    "Our new recommender is a huge improvement. It weeded out tags we would never use: \"asp.net\", \"post\" ,\"c#\": it successfully recognized that we're not going to program with asp.net or c# if we're using php, and we're probably not worried about c# if we're using html. The tags supplied are concepts that realistically would come up in a situation in which php, ajax, and html are all being used. Note that the scores are not in descending order: this is because we prioritize the tags that occur with the largest subset of supplied tags (in this case, all three tags) over tags that occur with a smaller subset (in this case, two of the three tags), even though the smaller subset has tags that are more frequent. Although those tags are more frequent, they are less relevant to all three tags and therefore less important. \n",
    "\n",
    "To determine the effectiveness of the recommender in practice, we test how accurately it predicts tags. To do so, we will look at the tags for each entry in our data set. Use the first few supplied tags to test, and see if our recommenders give us the last supplied tag. For example, if the tags are 'x y z a', then we want 'x y z' to predict 'a'."
   ]
  },
  {
   "cell_type": "code",
   "execution_count": 18,
   "metadata": {
    "collapsed": false
   },
   "outputs": [
    {
     "name": "stdout",
     "output_type": "stream",
     "text": [
      "***TEST DATA**\n",
      "Tag Merged Recommender 0.292255717256\n",
      "Single-Tag Recommender 0.135031185031\n",
      "Single-Tag Recommender, Normalized 0.206600831601\n",
      "***TRAIN DATA**\n",
      "Tag Merged Recommender 0.72860993454\n",
      "Single-Tag Recommender 0.132409190091\n",
      "Single-Tag Recommender, Normalized 0.215299704788\n"
     ]
    }
   ],
   "source": [
    "num = 0\n",
    "num2 = 0\n",
    "num3 = 0\n",
    "num4 = 0\n",
    "den = 0\n",
    "for item in questions_test.Tags.values:\n",
    "    item = str(item)\n",
    "    tags = item.split()\n",
    "    if isinstance(tags, list) and len(tags) > 2:\n",
    "        go = True\n",
    "        for word in tags:\n",
    "            if len(to_id[word]) < 25:\n",
    "                go = False\n",
    "        if go == False:\n",
    "            continue\n",
    "        try:\n",
    "            result = recommend_tags_merge(tags[:-1], 10)\n",
    "            result = [t[0] for t in result]\n",
    "            result2 = recommend_tags(tags[:-1], 10, occur)\n",
    "            result2 = [t[0] for t in result2]\n",
    "            result3 = recommend_tags(tags[:-1], 10, occur2)\n",
    "            result3 = [t[0] for t in result3]\n",
    "        except IndexError:\n",
    "            print item\n",
    "            continue\n",
    "        if len(result3) == 10:\n",
    "            if tags[-1] in result:\n",
    "                num += 1\n",
    "            if tags[-1] == result[0]:\n",
    "                num2 += 1\n",
    "            if tags[-1] in result2:\n",
    "                num3 += 1\n",
    "            if tags[-1] in result3:\n",
    "                num4 += 1\n",
    "            den += 1\n",
    "        else:\n",
    "            print 1\n",
    "            \n",
    "print \"***TEST DATA**\"\n",
    "print \"Tag Merged Recommender\", num * 1.0 / den\n",
    "#print \"num2 * 1.0 / den, \n",
    "print \"Single-Tag Recommender\", num3 * 1.0/den\n",
    "print \"Single-Tag Recommender, Normalized\", num4*1.0/den\n",
    "\n",
    "nump = 0\n",
    "nump2 = 0\n",
    "nump3 = 0\n",
    "nump4 = 0\n",
    "denp = 0\n",
    "for item in questions_train.Tags.values:\n",
    "    item = str(item)\n",
    "    tags = item.split()\n",
    "    if isinstance(tags, list) and len(tags) > 2:\n",
    "        go = True\n",
    "        for word in tags:\n",
    "            if len(to_id[word]) < 25:\n",
    "                go = False\n",
    "        if go == False:\n",
    "            continue\n",
    "        try:\n",
    "            result = recommend_tags_merge(tags[:-1], 10)\n",
    "            result = [t[0] for t in result]\n",
    "            result2 = recommend_tags(tags[:-1], 10, occur)\n",
    "            result2 = [t[0] for t in result2]\n",
    "            result3 = recommend_tags(tags[:-1], 10, occur2)\n",
    "            result3 = [t[0] for t in result3]\n",
    "        except IndexError:\n",
    "            print item\n",
    "            continue\n",
    "        if len(result3) == 10:\n",
    "            if tags[-1] in result:\n",
    "                nump += 1\n",
    "            if tags[-1] == result[0]:\n",
    "                nump2 += 1\n",
    "            if tags[-1] in result2:\n",
    "                nump3 += 1\n",
    "            if tags[-1] in result3:\n",
    "                nump4 += 1\n",
    "            denp += 1\n",
    "        else:\n",
    "            print 1\n",
    "            \n",
    "print \"***TRAIN DATA**\"\n",
    "print \"Tag Merged Recommender\",  nump * 1.0 / denp\n",
    "#print \"num2 * 1.0 / den, \n",
    "print \"Single-Tag Recommender\", nump3 * 1.0/denp\n",
    "print \"Single-Tag Recommender, Normalized\", nump4*1.0/denp\n",
    "        \n",
    "        \n",
    "        "
   ]
  },
  {
   "cell_type": "markdown",
   "metadata": {},
   "source": [
    "We mitigated much of the overfit in our data by limiting our analysis to tags that occur at least 25 times in our data set. Still, there is an overfit issue as there is a dramatic difference between train and test data with our merge recommender. This is because most tag groupings are unique to the training data, consequently they are not as useful in the test data. Considering we are only using tag data without context, 30% accuracy with our best recommender is pretty good. Now, we incorporate more data. "
   ]
  },
  {
   "cell_type": "markdown",
   "metadata": {},
   "source": [
    "## Bag of Words and Classifiers"
   ]
  },
  {
   "cell_type": "markdown",
   "metadata": {},
   "source": [
    "We have used scikit-learn to predict the tags from text through a bag-of-words approach. Due to the large scope of our data, we have utilized sparse matrices to store different features and have run the data through various classifiers. "
   ]
  },
  {
   "cell_type": "code",
   "execution_count": 22,
   "metadata": {
    "collapsed": false
   },
   "outputs": [],
   "source": [
    "# Libraries to Import\n",
    "\n",
    "import re\n",
    "from operator import itemgetter\n",
    "\n",
    "# SKLearn \n",
    "from sklearn.feature_extraction.text import CountVectorizer\n",
    "from sklearn.feature_extraction.text import TfidfVectorizer\n",
    "from sklearn.cross_validation import train_test_split\n",
    "\n",
    "\n",
    "# Classifiers\n",
    "from sklearn.naive_bayes import MultinomialNB"
   ]
  },
  {
   "cell_type": "markdown",
   "metadata": {},
   "source": [
    "### Preparing the Data"
   ]
  },
  {
   "cell_type": "markdown",
   "metadata": {},
   "source": [
    "We will be working with the questions.csv data set but must conduct some modifications to the set first to allow efficient processing. \n",
    "\n",
    "First, we will simply grab the first 10,000 lines from the frame."
   ]
  },
  {
   "cell_type": "code",
   "execution_count": 23,
   "metadata": {
    "collapsed": false
   },
   "outputs": [],
   "source": [
    "# grab first 10,000 lines from questions data frame, which is already sorted\n",
    "questions = questions.iloc[0:9999,:]\n",
    "questions['Title'] = questions['Title'].apply(lambda s: re.sub(r'([^\\s\\w]|_)+', '',s))"
   ]
  },
  {
   "cell_type": "markdown",
   "metadata": {},
   "source": [
    "#### Filtering Out Common Words"
   ]
  },
  {
   "cell_type": "markdown",
   "metadata": {},
   "source": [
    "Stop words are words such as \"the\" and \"about\" that are commonly used but have very little predictive power. To support efficient text processing, we will filter out these words before the processing of our data. "
   ]
  },
  {
   "cell_type": "code",
   "execution_count": 24,
   "metadata": {
    "collapsed": false
   },
   "outputs": [],
   "source": [
    "# List of stop words\n",
    "stop = \"a's able about above according accordingly across actually after afterwards again against ain't all allow allows almost alone along already also although always am among amongst an and another any anybody anyhow anyone anything anyway anyways anywhere apart appear appreciate appropriate are aren't around as aside ask asking associated at available away awfully be became because become becomes becoming been before beforehand behind being believe below beside besides best better between beyond both brief but by c'mon c's came can can't cannot cant cause causes certain certainly changes clearly co com come comes concerning consequently consider considering contain containing contains corresponding could couldn't course currently definitely described despite did didn't different do does doesn't doing don't done down downwards during each edu eg eight either else elsewhere enough entirely especially et etc even ever every everybody everyone everything everywhere ex exactly example except far few fifth first five followed following follows for former formerly forth four from further furthermore get gets getting given gives go goes going gone got gotten greetings had hadn't happens hardly has hasn't have haven't having he he's hello help hence her here here's hereafter hereby herein hereupon hers herself hi him himself his hither hopefully how howbeit however i'd i'll i'm i've  if ignored immediate in inasmuch inc indeed indicate indicated indicates inner insofar instead into inward is isn't it it'd it'll it's its itself just keep keeps kept know known knows last lately later latter latterly least less lest let let's like liked likely little look looking looks ltd mainly many may maybe me mean meanwhile merely might more moreover most mostly much must my myself name namely nd near nearly necessary need needs neither never nevertheless new next nine no nobody non none noone nor normally not nothing novel now nowhere obviously of off often oh ok okay old on once one ones only onto or other others otherwise ought our ours ourselves out outside over overall own particular particularly per perhaps placed please plus possible presumably probably provides que quite qv rather rd re really reasonably regarding regardless regards relatively respectively right said same saw say saying says second secondly see seeing seem seemed seeming seems seen self selves sensible sent serious seriously seven several shall she should shouldn't since six so some somebody somehow someone something sometime sometimes somewhat somewhere soon sorry specified specify specifying still sub such sup sure t's take taken tell tends th than thank thanks thanx that that's thats the their theirs them themselves then thence there there's thereafter thereby therefore therein theres thereupon these they they'd they'll they're they've think third this thorough thoroughly those though three through throughout thru thus to together too took toward towards tried tries truly try trying twice two un under unfortunately unless unlikely until unto up upon us use used useful uses using usually value various very via viz vs want wants was wasn't way we we'd we'll we're we've welcome well went were weren't what what's whatever when whence whenever where where's whereafter whereas whereby wherein whereupon wherever whether which while whither who who's whoever whole whom whose why will willing wish with within without won't wonder would wouldn't yes yet you you'd you'll you're you've your yours yourself yourselves zero\".split( )\n",
    "\n",
    "def remove_stop_words(line, stop):\n",
    "    # make lowercase for uniformity\n",
    "    line = line.lower() \n",
    "    # remove each of the stop words from the given line\n",
    "    for w in stop:\n",
    "        line = re.sub(r'\\b%s\\b' % w, '', line)  # '\\b' is a word boundry\n",
    "    return line\n",
    "\n",
    "# remove stop words from the title\n",
    "questions['Clean_Title'] = questions['Title'].apply(lambda s: remove_stop_words(s,stop))"
   ]
  },
  {
   "cell_type": "markdown",
   "metadata": {},
   "source": [
    "#### Acquiring Most Common Tags"
   ]
  },
  {
   "cell_type": "markdown",
   "metadata": {},
   "source": [
    "Due to the large number of tags present within this dataset, we will not be working with all of them. Above, we have shown that the top 100 most common tags account for approximately 40% of all tag occurences within the dataset. We will limit our prediction of tags to these top 100 to check our model's predictive power."
   ]
  },
  {
   "cell_type": "code",
   "execution_count": 4,
   "metadata": {
    "collapsed": false
   },
   "outputs": [
    {
     "name": "stdout",
     "output_type": "stream",
     "text": [
      "100 Most Common Tags:\n",
      "\n",
      "['android', 'javascript', 'java', 'php', 'ios', 'c#', 'jquery', 'python', 'html', 'ios7', 'c++', 'objective-c', 'ruby-on-rails', 'css', 'sql', 'mysql', 'ruby', 'iphone', 'asp.net', 'angularjs', 'c', 'eclipse', '.net', 'asp.net-mvc', 'twitter-bootstrap', 'xcode', 'node.js', 'postgresql', 'osx', 'json', 'html5', 'google-maps', 'ajax', 'linux', 'cordova', 'django', 'windows', 'facebook', 'sql-server', 'wordpress', 'arrays', 'database', 'xml', 'spring', 'asp.net-mvc-4', 'apache', 'ruby-on-rails-4', 'xcode5', 'excel', 'forms', 'r', 'rails-postgresql', 'regex', 'image', 'matlab', 'google-chrome', 'vb.net', 'visual-studio-2012', 'multithreading', 'uitableview', 'hibernate', 'string', 'file', 'windows-phone-8', 'algorithm', 'twitter-bootstrap-3', 'mongodb', 'git', 'maven', 'google-app-engine', 'entity-framework', 'css3', 'winforms', 'osx-mavericks', 'scala', 'visual-studio', 'api', 'internet-explorer', 'ubuntu', 'symfony2', 'visual-studio-2013', 'email', 'facebook-graph-api', 'heroku', 'tomcat', 'selenium', 'video', 'ipad', 'opencv', 'magento', 'vba', 'performance', 'qt', 'wpf', 'oracle', 'jdbc', 'ruby-on-rails-3', 'security', 'python-2.7', 'validation']\n"
     ]
    }
   ],
   "source": [
    "# Most Common Tags\n",
    "\n",
    "\n",
    "\"\"\"\n",
    "Function\n",
    "--------\n",
    "count_words\n",
    "\n",
    "Counts tag occurences\n",
    "\n",
    "Parameters\n",
    "-----------\n",
    "series : Pandas Series\n",
    "    Series of tags\n",
    "    \n",
    "Returns\n",
    "-------\n",
    "n_tags : dictionary \n",
    "    Gives counts for each of the tags\n",
    "\"\"\"\n",
    "# count tag occurrences\n",
    "def count_words(series):\n",
    "    n_tags = {}\n",
    "    for tags in series:\n",
    "        tags = tags.split()\n",
    "        for tag in tags:\n",
    "            tag = tag.lower()\n",
    "            if tag in n_tags:\n",
    "                n_tags[tag] += 1\n",
    "            else:\n",
    "                n_tags[tag] = 1\n",
    "    return n_tags\n",
    "\n",
    "# most common words in series\n",
    "n_tags = (count_words(questions.Tags))\n",
    "sorted_n_tags = sorted(n_tags.iteritems(), key=itemgetter(1), reverse=True)\n",
    "data = sorted_n_tags[:100]\n",
    "\n",
    "# format data without commas or brackets\n",
    "top_100 = [x[0] for x in data]\n",
    "top_100 = [x.strip().strip(\"[],\") for x in top_100]\n",
    "\n",
    "print \"100 Most Common Tags:\"\n",
    "print\n",
    "print (top_100)\n"
   ]
  },
  {
   "cell_type": "markdown",
   "metadata": {},
   "source": [
    "We finally create a dataframe containing the question titles and tag occurrences for the top 100 tags. We filter out the questions that do not have tags in the top 100. This is so our classifiers can learn on the relevant data. This will definitely introduce bias within our model because the test set will only involve data that may have a common tag word. However, for computational reasons, we are maintaining this choice; our model can be easily extended to cover the full data set with all of the possible tags."
   ]
  },
  {
   "cell_type": "code",
   "execution_count": 32,
   "metadata": {
    "collapsed": false
   },
   "outputs": [],
   "source": [
    "# initialize dataframe with the question title and the cleaned question title\n",
    "question_frame = pd.DataFrame(questions.Title)\n",
    "question_frame['Clean_Title'] = questions['Clean_Title']\n",
    "\n",
    "# make Y vector, indicating whether or not tag shows up in question (for all tags)\n",
    "tags = [tag.split() for tag in list(questions.Tags)]\n",
    "for top in top_100:\n",
    "    words = [1 if top in word else 0 for word in tags]\n",
    "    question_frame[top] = words\n",
    "\n",
    "# filter out questions that do not have tags in the top 100\n",
    "Top = []\n",
    "for tag in tags:\n",
    "    b1 = tag\n",
    "    b2 = top_100\n",
    "    b3 = set(b1).intersection( set(b2) ) != set([])\n",
    "    Top.append(b3)\n",
    "\n",
    "question_frame['Top'] = Top\n",
    "question_frame = question_frame[question_frame.Top != False]\n",
    "question_frame = question_frame.drop('Top',1)"
   ]
  },
  {
   "cell_type": "markdown",
   "metadata": {},
   "source": [
    "As an illustration, here is the second row of the dataframe. The printout includes the question title, the cleaned question title, and binary values indicating whether or not a specific tag is associated with the question. The dataframe has 102 columns correspnding to the title, cleaned title, and all of the top 100 tags. The dataframe now has 8,114 rows, where each row corresponds to a question."
   ]
  },
  {
   "cell_type": "code",
   "execution_count": 33,
   "metadata": {
    "collapsed": false
   },
   "outputs": [
    {
     "name": "stdout",
     "output_type": "stream",
     "text": [
      "Shape of DataFrame\n",
      "(8114, 102)\n",
      "<class 'pandas.core.frame.DataFrame'>\n",
      "Int64Index: 8114 entries, 0 to 10018\n",
      "Columns: 102 entries, Title to validation\n",
      "dtypes: int64(100), object(2)\n",
      "\n",
      "Second row of DataFrame\n",
      "\n",
      "Title            Why final is not applicable to array in Java\n",
      "Clean_Title                   final   applicable  array  java\n",
      "android                                                     0\n",
      "javascript                                                  0\n",
      "java                                                        1\n",
      "php                                                         0\n",
      "ios                                                         0\n",
      "c#                                                          0\n",
      "jquery                                                      0\n",
      "python                                                      0\n",
      "html                                                        0\n",
      "ios7                                                        0\n",
      "c++                                                         0\n",
      "objective-c                                                 0\n",
      "ruby-on-rails                                               0\n",
      "...\n",
      "selenium           0\n",
      "video              0\n",
      "ipad               0\n",
      "opencv             0\n",
      "magento            0\n",
      "vba                0\n",
      "performance        0\n",
      "qt                 0\n",
      "wpf                0\n",
      "oracle             0\n",
      "jdbc               0\n",
      "ruby-on-rails-3    0\n",
      "security           0\n",
      "python-2.7         0\n",
      "validation         0\n",
      "Name: 2, Length: 102, dtype: object\n"
     ]
    }
   ],
   "source": [
    "print \"Shape of DataFrame\"\n",
    "print question_frame.shape\n",
    "print question_frame\n",
    "print\n",
    "print \"Second row of DataFrame\"\n",
    "print\n",
    "print question_frame.irow(2)"
   ]
  },
  {
   "cell_type": "markdown",
   "metadata": {},
   "source": [
    "### Building Our Model"
   ]
  },
  {
   "cell_type": "markdown",
   "metadata": {},
   "source": [
    "We use a Naive Bayes classifier to build a prediction model for whether a specific tag from the top 100 will be associated with a Stack Overflow question, depending on the title of the question. \n",
    "\n",
    "Most models work with numerical data, so we need to convert the textual collection of questions to something numerical. A common strategy for text classification is to represent each review as a \"bag of words\" vector -- a long vector of numbers encoding how many times a particular word appears in a blurb."
   ]
  },
  {
   "cell_type": "code",
   "execution_count": 34,
   "metadata": {
    "collapsed": false
   },
   "outputs": [],
   "source": [
    "\n",
    "\n",
    "\"\"\"\n",
    "Function\n",
    "--------\n",
    "make_xy\n",
    "\n",
    "Build a bag-of-words training set for the review data\n",
    "\n",
    "Parameters\n",
    "-----------\n",
    "question_frame : Pandas DataFrame\n",
    "    The question data from above\n",
    "    \n",
    "tag_id : integer\n",
    "    A number relating to the tag (out of the \n",
    "    top 100) that should be used. It also \n",
    "    corresponds to the column within the \n",
    "    question_frame dataframe.\n",
    "    \n",
    "vectorizer : CountVectorizer object (optional)\n",
    "    A CountVectorizer object to use. If None,\n",
    "    then create and fit a new CountVectorizer.\n",
    "    Otherwise, re-fit the provided CountVectorizer\n",
    "    using the question data\n",
    "    \n",
    "Returns\n",
    "-------\n",
    "X : numpy array (dims: nquestions, nwords)\n",
    "    Bag-of-words representation for each question.\n",
    "Y : numpy array (dims: nquestions)\n",
    "    1/0 array. 1 = tag present, 0 = tag absent\n",
    "title : numpy array (dims: nquestions)\n",
    "    1/0 array. 1 = tag present, 0 = tag absent\n",
    "\n",
    "Examples\n",
    "--------\n",
    "X, Y, title = make_xy(question_frame,5)\n",
    "\"\"\"\n",
    "\n",
    "def make_xy(question_frame, tag_id, vectorizer=None):\n",
    "    # default is Count Vectorizer\n",
    "    if vectorizer is None:\n",
    "        vectorizer = CountVectorizer()\n",
    "    title = question_frame.Title\n",
    "    \n",
    "    # bag of words transformation\n",
    "    X = vectorizer.fit_transform(question_frame.Clean_Title)\n",
    "    X = X.tocsc()  # some versions of sklearn return COO format\n",
    "    \n",
    "    # 1/0 array relating to specific tag word\n",
    "    Y = (question_frame.iloc[:,tag_id]).values\n",
    "    \n",
    "    return X,Y,title"
   ]
  },
  {
   "cell_type": "markdown",
   "metadata": {},
   "source": [
    "Scikit-learn has an object called a CountVectorizer that turns text into a bag of words. It does this by converting the collection of text to a matrix of token counts. We can also do the same thing using a TFID vectorizer, which is equivalent to using a CountVectorizer followed by TfidfTransformer (for normalization). The raw text are transformed to tf–idf vectors"
   ]
  },
  {
   "cell_type": "code",
   "execution_count": 35,
   "metadata": {
    "collapsed": false
   },
   "outputs": [
    {
     "name": "stdout",
     "output_type": "stream",
     "text": [
      "Extracting features using a sparse vectorizer\n",
      "TRAINING: n_samples: 5436, n_features: 9754\n",
      "TEST: n_samples: 2678, n_features: 9754\n"
     ]
    }
   ],
   "source": [
    "# Example using the TfidfVectorizer for one of the tags\n",
    "vectorizer = TfidfVectorizer(sublinear_tf=True, max_df=0.5,\n",
    "                                 stop_words='english')\n",
    "print \"Extracting features using a sparse vectorizer\"\n",
    "X,Y,title = make_xy(question_frame,3,vectorizer)\n",
    "X_train, X_test, y_trains, y_tests, title_train, title_test = train_test_split(X, Y, title, test_size=0.33)\n",
    "y_train =y_trains\n",
    "y_test = y_tests\n",
    "\n",
    "\n",
    "print \"TRAINING: n_samples: %d, n_features: %d\" % X_train.shape\n",
    "print \"TEST: n_samples: %d, n_features: %d\" % X_test.shape\n",
    "\n",
    "vocabulary = np.array([t for t, i in sorted(vectorizer.vocabulary_.iteritems(),\n",
    "                                            key=itemgetter(1))])\n"
   ]
  },
  {
   "cell_type": "markdown",
   "metadata": {},
   "source": [
    "#### Learning with the Classifier"
   ]
  },
  {
   "cell_type": "markdown",
   "metadata": {},
   "source": [
    "First, we build a benchmark classifier function that will apply the classifier to training and test data"
   ]
  },
  {
   "cell_type": "code",
   "execution_count": 36,
   "metadata": {
    "collapsed": false
   },
   "outputs": [],
   "source": [
    "\"\"\"\n",
    "Function\n",
    "--------\n",
    "classifier\n",
    "\n",
    "Apply a classifier to training and test data\n",
    "\n",
    "Parameters\n",
    "-----------\n",
    "clf : function\n",
    "    Specific classifier to be used\n",
    "    \n",
    "tag_id : integer\n",
    "    A number relating to the tag (out of the \n",
    "    top 100) that should be used. It also \n",
    "    corresponds to the column within the \n",
    "    question_frame dataframe.\n",
    "    \n",
    "vectorizer : CountVectorizer object (optional)\n",
    "    A CountVectorizer object to use. If None,\n",
    "    then create and fit a new CountVectorizer.\n",
    "    Otherwise, re-fit the provided CountVectorizer\n",
    "    using the question data\n",
    "    \n",
    "Returns\n",
    "-------\n",
    "X : numpy array (dims: nquestions, nwords)\n",
    "    Bag-of-words representation for each question.\n",
    "Y : numpy array (dims: nquestions)\n",
    "    1/0 array. 1 = tag present, 0 = tag absent\n",
    "title : numpy array (dims: nquestions)\n",
    "    1/0 array. 1 = tag present, 0 = tag absent\n",
    "\n",
    "Examples\n",
    "--------\n",
    "X, Y, title = make_xy(question_frame,5)\n",
    "\"\"\"\n",
    "# classifiers\n",
    "\n",
    "def classifier(clf_id,X_train,X_test,y_train,y_rest, prints=True):\n",
    "    if clf_id == 1:\n",
    "        clf = MultinomialNB()\n",
    "    elif clf_id == 2:\n",
    "        clf = KNeighborsClassifier(n_neighbors=7)\n",
    "    elif clf_id == 3:\n",
    "        clf = SGDClassifier(loss=\"log\", penalty=\"l2\")\n",
    "    \n",
    "    if prints == True:\n",
    "        print \"Training: \"\n",
    "        print clf\n",
    "    clf.fit(X_train, y_train)\n",
    "    \n",
    "    if prints==True:\n",
    "        print \"Predictions on Test\"\n",
    "    pred = clf.predict(X_test)\n",
    "    if prints==True:\n",
    "        print pred\n",
    "    \n",
    "    score = 100 * clf.score(X_test, y_test)\n",
    "    #score = metrics.f1_score(y_test, pred)\n",
    "    if prints==True:\n",
    "        print \"Prediction Right: %0.2f%%\" % (score)\n",
    "        \n",
    "    # Probability    \n",
    "    if clf_id == 1:\n",
    "        #probs = clf.predict_proba(X_test)[:,1]\n",
    "        probs = clf.predict_log_proba(X_test)[:, 1]\n",
    "    else:\n",
    "        probs = clf.predict_proba(X_test)[:, 0]\n",
    "    \n",
    "\n",
    "    return probs"
   ]
  },
  {
   "cell_type": "markdown",
   "metadata": {},
   "source": [
    "We can see this classifier function in action when applied with different scikit-learn classifiers. The percentages of right predictions outputted gives a measure of how good the model is at predicting whether or not a specific tag word appeared for a question. "
   ]
  },
  {
   "cell_type": "code",
   "execution_count": 37,
   "metadata": {
    "collapsed": false
   },
   "outputs": [
    {
     "name": "stdout",
     "output_type": "stream",
     "text": [
      "================================================================================\n",
      "Naive Bayes\n",
      "Training: \n",
      "MultinomialNB(alpha=1.0, class_prior=None, fit_prior=True)\n",
      "Predictions on Test\n",
      "[0 0 0 ..., 0 0 0]\n",
      "Prediction Right: 88.50%\n",
      "================================================================================\n",
      "kNN\n",
      "Training: \n",
      "KNeighborsClassifier(algorithm=auto, leaf_size=30, metric=minkowski,\n",
      "           n_neighbors=7, p=2, weights=uniform)\n",
      "Predictions on Test\n",
      "[0 0 0 ..., 0 0 0]\n",
      "Prediction Right: 88.27%\n"
     ]
    }
   ],
   "source": [
    "from sklearn.neighbors import KNeighborsClassifier\n",
    "from sklearn.naive_bayes import MultinomialNB\n",
    "\n",
    "\n",
    "results=[]\n",
    "vectorizer = TfidfVectorizer(sublinear_tf=True, max_df=0.5,\n",
    "                                 stop_words='english')\n",
    "X,Y, title = make_xy(question_frame,101,vectorizer)\n",
    "split_ind = X_train.shape[0]\n",
    "X_train, X_test, y_trains, y_tests, title_train, title_test = train_test_split(X, Y, title, test_size=0.33)\n",
    "X_train, X_test, y_trains, y_tests, title_train, title_test = X[:split_ind], X[split_ind:], Y[:split_ind], Y[split_ind:], title[:split_ind], title[split_ind:]\n",
    "\n",
    "\n",
    "for clf, name in (\n",
    "        (1, \"Naive Bayes\"),\n",
    "        (2, \"kNN\"),\n",
    "        ):\n",
    "    print('=' * 80)\n",
    "    print(name)\n",
    "    results.append(classifier(clf,X_train,X_test, y_train,y_test))\n"
   ]
  },
  {
   "cell_type": "markdown",
   "metadata": {},
   "source": [
    "We can see that the prediction percentages are very inflated because most of the 100 tags observed  do not appear in the list of tags for a given question. Therefore, the classifiers correctly predict most of the time that a certain tag does not appear within the feature list."
   ]
  },
  {
   "cell_type": "markdown",
   "metadata": {},
   "source": [
    "### Extracting Predictions from the Classifiers"
   ]
  },
  {
   "cell_type": "markdown",
   "metadata": {},
   "source": [
    "In this section, we will use teh above functions to actually apply the classifiers to our model to get tag predictions."
   ]
  },
  {
   "cell_type": "markdown",
   "metadata": {},
   "source": [
    "#### Naive Bayes Classifier"
   ]
  },
  {
   "cell_type": "code",
   "execution_count": 14,
   "metadata": {
    "collapsed": false
   },
   "outputs": [
    {
     "name": "stdout",
     "output_type": "stream",
     "text": [
      "[[-3.23973205 -2.95362989 -4.06540057 ..., -7.11489229 -7.11063735\n",
      "  -7.50530111]\n",
      " [-2.63756421 -3.0336707  -1.38640445 ..., -5.94086444 -5.75416869\n",
      "  -6.16848655]\n",
      " [-3.18642734 -3.94279582 -2.73649785 ..., -7.05528708 -6.99032289\n",
      "  -7.28263862]\n",
      " ..., \n",
      " [-4.24258575 -4.18008344 -4.46042461 ..., -9.65206198 -9.60738482\n",
      "  -9.70211904]\n",
      " [-2.75574377 -3.51094282 -2.06764976 ..., -6.34952459 -6.28438962\n",
      "  -6.5773041 ]\n",
      " [-1.99759937 -1.58704926 -2.34792227 ..., -5.31939706 -5.25447122\n",
      "  -5.54654218]]\n"
     ]
    }
   ],
   "source": [
    "# Get tag probalities for each question using Naive Bayes\n",
    "vectorizer = TfidfVectorizer(sublinear_tf=True, max_df=0.5,\n",
    "                                 stop_words='english')\n",
    "probs = np.empty([y_test.shape[0],1])\n",
    "for i in range(2, 101):\n",
    "    X,Y,title = make_xy(question_frame,i,vectorizer)\n",
    "    \n",
    "    # We split the data at the same index utilized above from the train_test_split function. \n",
    "    # However, to remove the arbitrariness of the split, we will hard-code the split-index\n",
    "    # instead of re-splitting each time\n",
    "    X_train, X_test, y_train, y_test, title_train, title_test = X[:split_ind], X[split_ind:], Y[:split_ind], Y[split_ind:], title[:split_ind], title[split_ind:]\n",
    "    clf = 1 # corresponds to MultinomialNB()\n",
    "    proba = classifier(clf,X_train,X_test,y_train,y_test, prints=False)\n",
    "    probs = np.column_stack((probs, proba)) \n",
    "probs = probs[:,1:]\n",
    "\n",
    "# output probabilities\n",
    "print probs\n",
    "\n"
   ]
  },
  {
   "cell_type": "markdown",
   "metadata": {},
   "source": [
    "The probabilities outputted correspond to the probability of the ith tag being in the tag_list for each question for each of the questions."
   ]
  },
  {
   "cell_type": "code",
   "execution_count": 782,
   "metadata": {
    "collapsed": false
   },
   "outputs": [
    {
     "name": "stdout",
     "output_type": "stream",
     "text": [
      "Minor image editing functionality alongside AngularJS\n",
      "{'pred': ['c#', 'php', 'java', 'android', 'javascript'], 'true': ['postgresql', 'facebook', 'cordova', 'javascript', 'android']}\n",
      "\n",
      "Using Kendo Grid with Server Side Filters and Server Side Sorting Field  NULL\n",
      "{'pred': ['jquery', 'c#', 'android', 'javascript', 'java'], 'true': ['osx', 'postgresql', 'node.js', 'windows', 'excel']}\n",
      "\n",
      "CSS 3 Level Dropdown Menu\n",
      "{'pred': ['java', 'css', 'android', 'jquery', 'javascript'], 'true': ['postgresql', 'node.js', 'django', 'validation', 'entity-framework']}\n",
      "\n",
      "How do I get an ECDSA public key from just a Bitcoin signature  SEC1 416 key recovery for curves over mod pfields\n",
      "{'pred': ['c#', 'php', 'android', 'javascript', 'java'], 'true': ['osx', 'postgresql', 'facebook', 'validation', 'python']}\n",
      "\n",
      "AngularJS  handle routing before they load\n",
      "{'pred': ['ios', 'javascript', 'php', 'java', 'android'], 'true': ['osx', 'postgresql', 'windows', 'validation', '.net']}\n",
      "\n"
     ]
    }
   ],
   "source": [
    "# dictionary of top 5 tags per question title\n",
    "tags_dict = {}\n",
    "lentest = len(y_test)\n",
    "Y = (question_frame.iloc[:,2:]).values\n",
    "for i in range(0, lentest):\n",
    "    ind = np.argsort(probs[i])\n",
    "    ind2 = np.argsort(Y[i])\n",
    "    words = [top_100[n] for n in ind]\n",
    "    words2 = [top_100[n] for n in ind2]\n",
    "    top_5 = words[-5:]\n",
    "    top_5_true = words2[-5:]\n",
    "    tags_dict.update({title_test.values[i]:{'pred': top_5, 'true' : top_5_true}})\n",
    "\n",
    "\n",
    "# Print the first 5\n",
    "five_keys = tags_dict.keys()[:5]\n",
    "five_vals = tags_dict.values()[:5]\n",
    "\n",
    "for x in xrange(5):\n",
    "    print five_keys[x]\n",
    "    print five_vals[x]\n",
    "    print\n",
    "\n",
    "\n"
   ]
  },
  {
   "cell_type": "markdown",
   "metadata": {},
   "source": [
    "Get Accuracy:"
   ]
  },
  {
   "cell_type": "code",
   "execution_count": 783,
   "metadata": {
    "collapsed": false
   },
   "outputs": [
    {
     "name": "stdout",
     "output_type": "stream",
     "text": [
      "Accuracy of Naive Bayes Classifier: 42.76%\n"
     ]
    }
   ],
   "source": [
    "cnt_correct = 0\n",
    "for k,v in tags_dict.iteritems():\n",
    "    if len(set(v['pred']).intersection(set(v['true']))) >= 1:\n",
    "        cnt_correct += 1\n",
    "accuracy =  cnt_correct * 100.0 / len(tags_dict)\n",
    "\n",
    "print \"Accuracy of Naive Bayes Classifier: %0.2f%%\" % (accuracy)"
   ]
  },
  {
   "cell_type": "markdown",
   "metadata": {},
   "source": [
    "#### KNN Nearest Neighbors Classifier"
   ]
  },
  {
   "cell_type": "markdown",
   "metadata": {},
   "source": [
    "We will also try applying a kNN classifier to our data to see if this will increase performance. "
   ]
  },
  {
   "cell_type": "code",
   "execution_count": 28,
   "metadata": {
    "collapsed": false
   },
   "outputs": [
    {
     "name": "stdout",
     "output_type": "stream",
     "text": [
      "[[ 1.          1.          0.42857143 ...,  1.          1.          1.        ]\n",
      " [ 1.          0.71428571  0.85714286 ...,  1.          1.          1.        ]\n",
      " [ 0.71428571  1.          0.57142857 ...,  1.          1.          1.        ]\n",
      " ..., \n",
      " [ 0.85714286  1.          0.85714286 ...,  1.          1.          1.        ]\n",
      " [ 0.85714286  1.          0.71428571 ...,  1.          1.          1.        ]\n",
      " [ 0.85714286  1.          1.         ...,  1.          1.          1.        ]]\n"
     ]
    }
   ],
   "source": [
    "X,Y, title = make_xy(question_frame,101,vectorizer)\n",
    "split_ind = X_train.shape[0]\n",
    "\n",
    "# Get tag probalities for each question using KNearest Neighbors\n",
    "vectorizer = TfidfVectorizer(sublinear_tf=True, max_df=0.5,\n",
    "                                 stop_words='english')\n",
    "probs = np.empty([y_test.shape[0],1])\n",
    "for i in range(2, 101):\n",
    "    X,Y,title = make_xy(question_frame,i,vectorizer)\n",
    "    \n",
    "    # We split the data at the same index utilized above from the train_test_split function. \n",
    "    # However, to remove the arbitrariness of the split, we will hard-code the split-index\n",
    "    # instead of re-splitting each time\n",
    "    X_train, X_test, y_train, y_test, title_train, title_test = X[:split_ind], X[split_ind:], Y[:split_ind], Y[split_ind:], title[:split_ind], title[split_ind:]\n",
    "    clf = 2 # corresponds to kNN\n",
    "    proba = classifier(clf,X_train,X_test,y_train,y_test, prints=False)\n",
    "    probs = np.column_stack((probs, proba)) \n",
    "probs = probs[:,1:]\n",
    "\n",
    "# output probabilities\n",
    "print probs"
   ]
  },
  {
   "cell_type": "code",
   "execution_count": 29,
   "metadata": {
    "collapsed": false
   },
   "outputs": [
    {
     "name": "stdout",
     "output_type": "stream",
     "text": [
      "Minor image editing functionality alongside AngularJS\n",
      "{'pred': ['google-maps', 'html5', 'json', 'wordpress', 'python-2.7'], 'true': ['postgresql', 'facebook', 'cordova', 'javascript', 'android']}\n",
      "\n",
      "Using Kendo Grid with Server Side Filters and Server Side Sorting Field  NULL\n",
      "{'pred': ['google-maps', 'json', 'osx', 'wordpress', 'python-2.7'], 'true': ['osx', 'postgresql', 'node.js', 'windows', 'excel']}\n",
      "\n",
      "CSS 3 Level Dropdown Menu\n",
      "{'pred': ['linux', 'ajax', 'google-maps', 'json', 'python-2.7'], 'true': ['postgresql', 'node.js', 'django', 'validation', 'entity-framework']}\n",
      "\n",
      "How do I get an ECDSA public key from just a Bitcoin signature  SEC1 416 key recovery for curves over mod pfields\n",
      "{'pred': ['linux', 'ajax', 'google-maps', 'arrays', 'python-2.7'], 'true': ['osx', 'postgresql', 'facebook', 'validation', 'python']}\n",
      "\n",
      "AngularJS  handle routing before they load\n",
      "{'pred': ['html5', 'json', 'osx', 'facebook', 'python-2.7'], 'true': ['osx', 'postgresql', 'windows', 'validation', '.net']}\n",
      "\n"
     ]
    }
   ],
   "source": [
    "# dictionary of top 5 tags per question title\n",
    "\n",
    "tags_dict = {}\n",
    "lentest = len(y_test)\n",
    "Y = (question_frame.iloc[:,2:]).values\n",
    "for i in range(0, lentest):\n",
    "    ind = np.argsort(probs[i])\n",
    "    ind2 = np.argsort(Y[i])\n",
    "    words = [top_100[n] for n in ind]\n",
    "    words2 = [top_100[n] for n in ind2]\n",
    "    top_5 = words[-5:]\n",
    "    top_5_true = words2[-5:]\n",
    "    tags_dict.update({title_test.values[i]:{'pred': top_5, 'true' : top_5_true}})\n",
    "  \n",
    "\n",
    "# Print the first 5\n",
    "five_keys = tags_dict.keys()[:5]\n",
    "five_vals = tags_dict.values()[:5]\n",
    "\n",
    "for x in xrange(5):\n",
    "    print five_keys[x]\n",
    "    print five_vals[x]\n",
    "    print"
   ]
  },
  {
   "cell_type": "markdown",
   "metadata": {},
   "source": [
    "Get Accuracy"
   ]
  },
  {
   "cell_type": "code",
   "execution_count": 30,
   "metadata": {
    "collapsed": false
   },
   "outputs": [
    {
     "name": "stdout",
     "output_type": "stream",
     "text": [
      "Accuracy of KNN Classifier: 29.15%\n"
     ]
    }
   ],
   "source": [
    "cnt_correct = 0\n",
    "for k,v in tags_dict.iteritems():\n",
    "    if len(set(v['pred']).intersection(set(v['true']))) >= 1:\n",
    "        cnt_correct += 1\n",
    "accuracy =  cnt_correct * 100.0 / len(tags_dict)\n",
    "\n",
    "print \"Accuracy of KNN Classifier: %0.2f%%\" % (accuracy)"
   ]
  },
  {
   "cell_type": "markdown",
   "metadata": {},
   "source": [
    "### Limitations"
   ]
  },
  {
   "cell_type": "markdown",
   "metadata": {},
   "source": [
    "Overall, the Naive Bayes Classifier performs better than kNN with an accuracy above 40%. \n",
    "However, we should note some of the limitations of our model in general.\n",
    "\n",
    " * Bag of Words assumes ordering of words not important\n",
    " * Data set only includes questions that have at least one tag in top 100\n",
    " * Standard defaults for each of the classifiers is used. Further explorations can delve into the specific optimizing parameters\n",
    " \n"
   ]
  },
  {
   "cell_type": "markdown",
   "metadata": {},
   "source": [
    "## Graphical Model Tag Prediction"
   ]
  },
  {
   "cell_type": "markdown",
   "metadata": {},
   "source": [
    "To predict tags for stackoverflow questions, we first take the question titles and tags of the training set to construct a weighted directed graph with self loops. We outline our steps below:\n",
    "\n",
    "* Filter out stopwords and numbers from the question title\n",
    "* For each word in the question title construct a node if no such node exist\n",
    "* For each word in the question title, construct an edge from the word to each tag for the question, set the weight = 1. If such edge already exist, increment edge weight by 1\n",
    "* Add another field to each edge called 'percent'. For edge[x][y], percent is defined as  edge[x][y]['weight'] divided by the total weight of edges from x. Note that we use 'percent' as a measure here because we wanted to give nodes that are less popular (ie matlab) and nodes with much more popularity (ie java) equal weighing in our prediction function"
   ]
  },
  {
   "cell_type": "code",
   "execution_count": 19,
   "metadata": {
    "collapsed": false
   },
   "outputs": [],
   "source": [
    "import itertools\n",
    "import networkx as nx\n",
    "import operator\n",
    "\n",
    "stopwords = \"a's able about above according accordingly across actually after afterwards again against ain't all allow allows almost alone along already also although always am among amongst an and another any anybody anyhow anyone anything anyway anyways anywhere apart appear appreciate appropriate are aren't around as aside ask asking associated at available away awfully be became because become becomes becoming been before beforehand behind being believe below beside besides best better between beyond both brief but by c'mon c's came can can't cannot cant cause causes certain certainly changes clearly co com come comes concerning consequently consider considering contain containing contains corresponding could couldn't course currently definitely described despite did didn't different do does doesn't doing don't done down downwards during each edu eg eight either else elsewhere enough entirely especially et etc even ever every everybody everyone everything everywhere ex exactly example except far few fifth first five followed following follows for former formerly forth four from further furthermore get gets getting given gives go goes going gone got gotten greetings had hadn't happens hardly has hasn't have haven't having he he's hello help hence her here here's hereafter hereby herein hereupon hers herself hi him himself his hither hopefully how howbeit however i'd i'll i'm i've  if ignored immediate in inasmuch inc indeed indicate indicated indicates inner insofar instead into inward is isn't it it'd it'll it's its itself just keep keeps kept know known knows last lately later latter latterly least less lest let let's like liked likely little look looking looks ltd mainly many may maybe me mean meanwhile merely might more moreover most mostly much must my myself name namely nd near nearly necessary need needs neither never nevertheless new next nine no nobody non none noone nor normally not nothing novel now nowhere obviously of off often oh ok okay old on once one ones only onto or other others otherwise ought our ours ourselves out outside over overall own particular particularly per perhaps placed please plus possible presumably probably provides que quite qv rather rd re really reasonably regarding regardless regards relatively respectively right said same saw say saying says second secondly see seeing seem seemed seeming seems seen self selves sensible sent serious seriously seven several shall she should shouldn't since six so some somebody somehow someone something sometime sometimes somewhat somewhere soon sorry specified specify specifying still sub such sup sure t's take taken tell tends th than thank thanks thanx that that's thats the their theirs them themselves then thence there there's thereafter thereby therefore therein theres thereupon these they they'd they'll they're they've think third this thorough thoroughly those though three through throughout thru thus to together too took toward towards tried tries truly try trying twice two un under unfortunately unless unlikely until unto up upon us use used useful uses using usually value various very via viz vs want wants was wasn't way we we'd we'll we're we've welcome well went were weren't what what's whatever when whence whenever where where's whereafter whereas whereby wherein whereupon wherever whether which while whither who who's whoever whole whom whose why will willing wish with within without won't wonder would wouldn't yes yet you you'd you'll you're you've your yours yourself yourselves zero\".split( )\n",
    "\n",
    "\"\"\"\n",
    "Function\n",
    "--------\n",
    "questions_graph(titles, tags,stopwords)\n",
    "  make a weighted DiGraph for question titles nad tags\n",
    "\n",
    "Parameters\n",
    "----------\n",
    "titles : list of strings\n",
    "  question titles\n",
    "\n",
    "tags: list of strings\n",
    "  actual tags used\n",
    "  \n",
    "stopwords: list of strings\n",
    "  noise words we want to filter out\n",
    "  \n",
    "Returns\n",
    "--------\n",
    "A weighted DiGraph \n",
    "\"\"\"\n",
    "\n",
    "def questions_graph(titles, tags,stopwords):\n",
    "    G=nx.DiGraph() \n",
    "    for idx, title in enumerate(titles):\n",
    "        tag_list = tags[idx].split( )\n",
    "        title_list = title.split( )\n",
    "        for i in title_list:\n",
    "            if i not in stopwords and not i.isdigit():\n",
    "                NN = str(i)\n",
    "                #check nodes\n",
    "                if not G.has_node(NN):\n",
    "                    G.add_node(NN)\n",
    "                for j in tag_list:\n",
    "                    NNT = str(j)\n",
    "                    #check edges\n",
    "                    if G.has_edge(NN, NNT):\n",
    "                        # we added this one before, just increase the weight by one\n",
    "                        G[NN][NNT]['weight'] += 1\n",
    "                    else:\n",
    "                        G.add_edge(NN, NNT, weight=1, percent = 0)\n",
    "    #compute difference\n",
    "    for i in G.nodes():\n",
    "        total = 0\n",
    "        for j in G[i].iteritems():\n",
    "            total = total + j[1]['weight']\n",
    "        counter = 0\n",
    "        for k in sorted(G[i].iteritems(), key=operator.itemgetter(1),reverse=True): #G[i].iteritems()\n",
    "            counter = counter +1 \n",
    "            # only keep top 20 for a word \n",
    "            if counter > 20:\n",
    "                G.remove_edge(i,k[0])\n",
    "            else: \n",
    "                G[i][k[0]]['percent'] = G[i][k[0]]['weight']/ float(total) \n",
    "    return G\n",
    "\n",
    "titles_train = np.array(questions_train['Title'])\n",
    "tags_train = np.array(questions_train['Tags'])\n",
    "graph = questions_graph(titles_train, tags_train,stopwords)"
   ]
  },
  {
   "cell_type": "markdown",
   "metadata": {},
   "source": [
    "To predict tags for the test set, for each word in the tag set, we first check if it is in the graph. If it is, then we look at its 20 highest 'percent' edges to find the most closely related tags. Then we combine all these words in a large array (if a tag appears twice, we simply add the 'percent'). Then we sort the big array to figure out the top 5 tags by percent."
   ]
  },
  {
   "cell_type": "code",
   "execution_count": 20,
   "metadata": {
    "collapsed": false
   },
   "outputs": [],
   "source": [
    "\"\"\"\n",
    "Function\n",
    "--------\n",
    "make_predictions(titles,stopwords,graph)\n",
    "  make predictions for tags based on our graph\n",
    "\n",
    "Parameters\n",
    "----------\n",
    "titles : list of strings\n",
    "  question titles\n",
    "\n",
    "stopwords: list of strings\n",
    "  noise words we want to filter out\n",
    "  \n",
    "graph: Networkx DiGraph\n",
    "  weighted graph of words and tags\n",
    "  \n",
    "Returns\n",
    "--------\n",
    "A List of Predictions\n",
    "  For each question, our top 5 predicted tags \n",
    "\"\"\"\n",
    "\n",
    "def make_predictions(titles,stopwords,graph):\n",
    "    predictions = []\n",
    "    for idx, title in enumerate(titles):\n",
    "        title_list = title.split( )\n",
    "        top = dict()\n",
    "        for i in title_list:\n",
    "            if graph.has_node(i):\n",
    "                for j in graph[i].iteritems():\n",
    "                    istr = str(j[0])\n",
    "                    if istr in top.keys():\n",
    "                        top[istr] = top[istr] + j[1]['percent']\n",
    "                    else:\n",
    "                        top[istr] = j[1]['percent']\n",
    "        sorted_all = sorted(top.iteritems(), key=operator.itemgetter(1),reverse=True)\n",
    "        sorted_top_5 = sorted_all[:5]\n",
    "        predictions.append(sorted_top_5)\n",
    "    return predictions\n",
    "\n",
    "titles = np.array(questions_test['Title'])\n",
    "predictions = make_predictions(titles,stopwords,graph)\n"
   ]
  },
  {
   "cell_type": "markdown",
   "metadata": {},
   "source": [
    "Here is a sample prediction:"
   ]
  },
  {
   "cell_type": "code",
   "execution_count": 23,
   "metadata": {
    "collapsed": false
   },
   "outputs": [
    {
     "name": "stdout",
     "output_type": "stream",
     "text": [
      "title of question: Draw large off screen form to bitmap\n",
      "our prediction:  ['android', 'c#', 'bitmap', 'javascript', 'java']\n",
      "actual time:  ['c#', 'image', 'bitmap', 'gdi']\n"
     ]
    }
   ],
   "source": [
    "num = 3\n",
    "print \"title of question:\", titles[num] \n",
    "print \"our prediction: \", [i[0] for i in predictions[num]]\n",
    "tags = np.array(questions_test['Tags'])\n",
    "print \"actual time: \", tags[num].split( )"
   ]
  },
  {
   "cell_type": "code",
   "execution_count": 24,
   "metadata": {
    "collapsed": false
   },
   "outputs": [],
   "source": [
    "\"\"\"\n",
    "Function\n",
    "--------\n",
    "calc_acurracy(predictions, tags)\n",
    "  calculate the accuracy of our predictions compared to actual tags\n",
    "\n",
    "Parameters\n",
    "----------\n",
    "predictions : list of tuples\n",
    "  predictions of our model\n",
    "\n",
    "tags: list of strings\n",
    "  actual tags used\n",
    "  \n",
    "Returns\n",
    "--------\n",
    "A List of Success Percentages\n",
    "  For each question, the % of tags we predicted correctly\n",
    "\"\"\"\n",
    "\n",
    "def calc_acurracy(predictions, tags):\n",
    "    percent_success = []\n",
    "    for idx, prediction in enumerate(predictions):\n",
    "        prediction = [i[0] for i in prediction]\n",
    "        tag = tags[idx].split( )\n",
    "        numtag = len(tag)\n",
    "        common = set(tag) & set(prediction)\n",
    "        numcommon = len(common)\n",
    "        percent_success.append(numcommon / float(numtag))\n",
    "    return percent_success\n",
    "\n",
    "tags = np.array(questions_test['Tags'])\n",
    "percent_success = calc_acurracy(predictions, tags)"
   ]
  },
  {
   "cell_type": "code",
   "execution_count": 25,
   "metadata": {
    "collapsed": false
   },
   "outputs": [
    {
     "name": "stdout",
     "output_type": "stream",
     "text": [
      "total number of questions in test set:  63521\n",
      "number of questions with at least 1 tag correctly predicted by our model:  54155\n",
      "percent of questions with at least 1 tag correctly predicted by our model:  85.26%\n",
      "number of questions with all tags predicted correctly by our model: 13225\n",
      "percent of questions with all tags predicted correctly by our model: 20.82%\n"
     ]
    },
    {
     "data": {
      "image/png": "[encoded data removed]",
      "text/plain": [
       "<matplotlib.figure.Figure at 0x42646390>"
      ]
     },
     "metadata": {},
     "output_type": "display_data"
    }
   ],
   "source": [
    "x = plt.hist(percent_success)\n",
    "plt.xlabel('% Success')\n",
    "plt.ylabel('Frequency')\n",
    "print \"total number of questions in test set: \", len(percent_success)\n",
    "print \"number of questions with at least 1 tag correctly predicted by our model: \", len([i for i in percent_success if i > 0])\n",
    "print \"percent of questions with at least 1 tag correctly predicted by our model:  %.2f%%\" % (100* len([i for i in percent_success if i > 0])/float(len(percent_success)))\n",
    "print \"number of questions with all tags predicted correctly by our model:\",  len([i for i in percent_success if i == 1])\n",
    "print \"percent of questions with all tags predicted correctly by our model: %.2f%%\" % (100* len([i for i in percent_success if i == 1])/float(len(percent_success)))"
   ]
  },
  {
   "cell_type": "markdown",
   "metadata": {},
   "source": [
    "We also tried using the same method but including in our input the body text and the user id. However, while the one including user id did not show a significant improvement in accuracy, the one that included the body text performed much worse. This could be due to the fact that there are simply too much noise in the body text (way too many stopwords that we should filter out). Take a look at [this post](http://stackoverflow.com/questions/20473604/tooltip-background-alternation) for example. Words like \"single different background suitable fit draw custom size event particular setting\" would all be filtered out, but a more sophistated methodology is necessary for us to figure out what the stop words for each posts are."
   ]
  },
  {
   "cell_type": "code",
   "execution_count": 26,
   "metadata": {
    "collapsed": false
   },
   "outputs": [
    {
     "name": "stdout",
     "output_type": "stream",
     "text": [
      "total number of questions in test set:  63521\n",
      "number of questions with at least 1 tag correctly predicted by our model:  54314\n",
      "percent of questions with at least 1 tag correctly predicted by our model:  85.51%\n",
      "number of questions with all tags predicted correctly by our model: 12787\n",
      "percent of questions with all tags predicted correctly by our model: 20.13%\n"
     ]
    },
    {
     "data": {
      "image/png": "[encoded data removed]",
      "text/plain": [
       "<matplotlib.figure.Figure at 0x486a76d8>"
      ]
     },
     "metadata": {},
     "output_type": "display_data"
    }
   ],
   "source": [
    "#Include user_id in our model since our explorary analysis shows that users tend to use similar tags as their past questions\n",
    "userid_train = np.array(questions_train['User_id'])\n",
    "tags_train = np.array(questions_train['Tags'])\n",
    "titles_train = np.array(questions_train['Title'])\n",
    "titles_and_userinfo_train = titles_train.copy()\n",
    "for idx, title in enumerate(titles_and_userinfo_train):\n",
    "    titles_and_userinfo_train[idx] = title + \" id\" + str(int(userid_train[idx]))\n",
    "graph_w_userinfo = questions_graph(titles_and_userinfo_train, tags_train,stopwords)\n",
    "\n",
    "titles_and_userinfo_test = np.array(questions_test['Title']).copy()\n",
    "userid_test = np.array(questions_test['User_id'])\n",
    "for idx, title in enumerate(titles_and_userinfo_test):\n",
    "    titles_and_userinfo_test[idx] = title + \" id\" + str(int(userid_test[idx]))\n",
    "predictions = make_predictions(titles_and_userinfo_test,stopwords,graph_w_userinfo)\n",
    "tags = np.array(questions_test['Tags'])\n",
    "percent_success = calc_acurracy(predictions, tags)\n",
    "\n",
    "x = plt.hist(percent_success)\n",
    "print \"total number of questions in test set: \", len(percent_success)\n",
    "print \"number of questions with at least 1 tag correctly predicted by our model: \", len([i for i in percent_success if i > 0])\n",
    "print \"percent of questions with at least 1 tag correctly predicted by our model:  %.2f%%\" % (100* len([i for i in percent_success if i > 0])/float(len(percent_success)))\n",
    "print \"number of questions with all tags predicted correctly by our model:\",  len([i for i in percent_success if i == 1])\n",
    "print \"percent of questions with all tags predicted correctly by our model: %.2f%%\" % (100* len([i for i in percent_success if i == 1])/float(len(percent_success)))\n",
    "   "
   ]
  },
  {
   "cell_type": "code",
   "execution_count": 27,
   "metadata": {
    "collapsed": false
   },
   "outputs": [],
   "source": [
    "import pattern.web as pw\n",
    "\n",
    "\"\"\"\n",
    "Function\n",
    "--------\n",
    "body_to_text\n",
    "  removes the code and tags from a body of a question\n",
    "\n",
    "Parameters\n",
    "----------\n",
    "body : String\n",
    "  string of raw html from question body\n",
    "  \n",
    "Returns\n",
    "--------\n",
    "A String\n",
    "  plain string without any code, tags, or newlines\n",
    "\"\"\"\n",
    "def body_to_text(body):\n",
    "    \n",
    "    # remove code \n",
    "    text = pw.strip_between('<code>', '</code>', body)\n",
    "    # remove tags whitespace, and newlines\n",
    "    try:\n",
    "        text = pw.plaintext(text).strip().replace('\\n',' ')\n",
    "    except:\n",
    "        text = text.replace('\\n',' ') \n",
    "    # convert text to lowercase\n",
    "    return text.lower()"
   ]
  },
  {
   "cell_type": "code",
   "execution_count": 28,
   "metadata": {
    "collapsed": false
   },
   "outputs": [
    {
     "name": "stdout",
     "output_type": "stream",
     "text": [
      "done with line one\n",
      "done with setting up\n",
      "done with graph\n",
      "done with setting up\n",
      "done with predictions\n",
      "total number of questions in test set:  63521\n",
      "number of questions with at least 1 tag correctly predicted by our model:  47351\n",
      "percent of questions with at least 1 tag correctly predicted by our model:  74.54%\n",
      "number of questions with all tags predicted correctly by our model: 7840\n",
      "percent of questions with all tags predicted correctly by our model: 12.34%\n"
     ]
    },
    {
     "data": {
      "image/png": "[encoded data removed]",
      "text/plain": [
       "<matplotlib.figure.Figure at 0x479c9080>"
      ]
     },
     "metadata": {},
     "output_type": "display_data"
    }
   ],
   "source": [
    "#Include body text\n",
    "body_train = [body_to_text(i) for i in np.array(questions_train['Body'])]\n",
    "print \"done with line one\"\n",
    "tags_train = np.array(questions_train['Tags'])\n",
    "titles_train = np.array(questions_train['Title'])\n",
    "titles_and_userinfo_train = titles_train.copy()\n",
    "\n",
    "for idx, title in enumerate(titles_and_userinfo_train):\n",
    "    try:\n",
    "        titles_and_userinfo_train[idx] = ''.join([title, \" \", str(body_train[idx])]) \n",
    "    except:\n",
    "        titles_and_userinfo_train[idx] = title\n",
    "        \n",
    "print \"done with setting up\"\n",
    "graph_w_userinfo = questions_graph(titles_and_userinfo_train, tags_train,stopwords)\n",
    "print \"done with graph\"\n",
    "titles_and_userinfo_test = np.array(questions_test['Title']).copy()\n",
    "body_test = [body_to_text(i) for i in np.array(questions_test['Body'])]\n",
    "for idx, title in enumerate(titles_and_userinfo_test):\n",
    "    try:\n",
    "        titles_and_userinfo_test[idx] = ''.join([title, \" \", str(body_test[idx])]) \n",
    "    except:\n",
    "        titles_and_userinfo_test[idx] = title\n",
    "print \"done with setting up\"\n",
    "predictions = make_predictions(titles_and_userinfo_test,stopwords,graph_w_userinfo)\n",
    "print \"done with predictions\"\n",
    "tags = np.array(questions_test['Tags'])\n",
    "percent_success = calc_acurracy(predictions, tags)\n",
    "\n",
    "x = plt.hist(percent_success)\n",
    "print \"total number of questions in test set: \", len(percent_success)\n",
    "print \"number of questions with at least 1 tag correctly predicted by our model: \", len([i for i in percent_success if i > 0])\n",
    "print \"percent of questions with at least 1 tag correctly predicted by our model:  %.2f%%\" % (100* len([i for i in percent_success if i > 0])/float(len(percent_success)))\n",
    "print \"number of questions with all tags predicted correctly by our model:\",  len([i for i in percent_success if i == 1])\n",
    "print \"percent of questions with all tags predicted correctly by our model: %.2f%%\" % (100* len([i for i in percent_success if i == 1])/float(len(percent_success)))\n",
    "   "
   ]
  },
  {
   "cell_type": "markdown",
   "metadata": {},
   "source": [
    "#### We concluded that the model using only the title text is the best for predicting tags. It predicts at least 1 tag correctly 85.26% of the time and all tags correctly 20.82% of the time."
   ]
  }
 ],
 "metadata": {
  "kernelspec": {
   "display_name": "Python 2",
   "language": "python",
   "name": "python2"
  },
  "language_info": {
   "codemirror_mode": {
    "name": "ipython",
    "version": 2
   },
   "file_extension": ".py",
   "mimetype": "text/x-python",
   "name": "python",
   "nbconvert_exporter": "python",
   "pygments_lexer": "ipython2",
   "version": "2.7.10"
  }
 },
 "nbformat": 4,
 "nbformat_minor": 0
}
